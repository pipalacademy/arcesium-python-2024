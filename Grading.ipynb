{
 "cells": [
  {
   "cell_type": "markdown",
   "id": "64b9e86c-5a60-47a5-b097-6ce7015996cc",
   "metadata": {},
   "source": [
    "# Grading"
   ]
  },
  {
   "cell_type": "code",
   "execution_count": 1,
   "id": "e719c84e-7d27-48cc-98f6-a9de519c263a",
   "metadata": {},
   "outputs": [],
   "source": [
    "import nbformat\n",
    "from nbconvert.preprocessors import ExecutePreprocessor\n",
    "from pathlib import Path\n",
    "import yaml\n",
    "import shelve\n",
    "import pandas as pd"
   ]
  },
  {
   "cell_type": "code",
   "execution_count": 2,
   "id": "71a72e8b-5eea-4cda-8a05-f6d9efcfeef6",
   "metadata": {},
   "outputs": [],
   "source": [
    "def get_problem_names(assignment: int):\n",
    "    d = yaml.safe_load(open(\"assignments.yml\"))\n",
    "    assignments = {a['id']: a for a in d}\n",
    "    data = assignments[assignment]\n",
    "    return data['problems']"
   ]
  },
  {
   "cell_type": "code",
   "execution_count": 3,
   "id": "98aa3bc1-ab3b-486e-9715-c5dc916eb8c5",
   "metadata": {},
   "outputs": [],
   "source": [
    "ASSIGNMENT = 3\n",
    "\n",
    "PROBLEMS = get_problem_names(ASSIGNMENT)"
   ]
  },
  {
   "cell_type": "code",
   "execution_count": 4,
   "id": "f4048879-adbe-4df4-aca9-6aa90d560397",
   "metadata": {},
   "outputs": [
    {
     "data": {
      "text/plain": [
       "['combined-daily-time-series', 'dict-client', 'frankfurter']"
      ]
     },
     "execution_count": 4,
     "metadata": {},
     "output_type": "execute_result"
    }
   ],
   "source": [
    "PROBLEMS"
   ]
  },
  {
   "cell_type": "code",
   "execution_count": 5,
   "id": "0e1ce58d-0fda-412d-8a9c-48119baa7220",
   "metadata": {},
   "outputs": [],
   "source": [
    "setup_code = \"\"\"\n",
    "VERIFY_PROBLEM_GRADES = []\n",
    "\"\"\"\n",
    "\n",
    "save_results_code = \"\"\"\n",
    "import json\n",
    "\n",
    "with open(\"/tmp/grades.json\", \"w\") as f:\n",
    "    json.dump(VERIFY_PROBLEM_GRADES, f)\n",
    "\"\"\"\n",
    "\n",
    "def get_code_cells(assignment):\n",
    "    problems = get_problem_names(assignment)\n",
    "    verify_cells = [f\"%verify_problem {p}\" for p in problems]\n",
    "    return [setup_code] + verify_cells + [save_results_code]\n",
    "\n",
    "def grade(assignment: int, path: Path):\n",
    "    print(\"Grading\", path)\n",
    "    nb = nbformat.read(open(path), as_version=4)\n",
    "\n",
    "    def add_code_cell(code):\n",
    "        nb['cells'].append(nbformat.v4.new_code_cell(code))\n",
    "\n",
    "    def prepend_front_matter(data):\n",
    "        text = yaml.safe_dump(data)\n",
    "        nb['cells'][0] = nbformat.v4.new_raw_cell(f\"---\\n{text}\\n---\")\n",
    "        print(\"Added frontmatter\")\n",
    "              \n",
    "    for code in get_code_cells(assignment):\n",
    "        add_code_cell(code)\n",
    "    \n",
    "    p = ExecutePreprocessor(timeout=600, kernel_name='python3', allow_errors=True)\n",
    "    nb, _ = p.preprocess(nb, {'metadata': {'path': '/tmp/'}})\n",
    "\n",
    "    score = save_grade(path)    \n",
    "    \n",
    "    prepend_front_matter({\n",
    "        \"title\": path.stem,\n",
    "        \"assignment\": f\"A{assignment:02d}\",\n",
    "        \"author\": path.stem,\n",
    "        \"score\": score\n",
    "    })\n",
    "\n",
    "    outpath = Path(\"Submissions\") / f\"A{assignment:02d}\" / path.name\n",
    "    outpath.parent.mkdir(exist_ok=True, parents=True)\n",
    "    with outpath.open(\"w\") as f:\n",
    "        nbformat.write(nb, f)\n",
    "    \n",
    "    print(\"saved\", outpath)\n",
    "\n",
    "\n",
    "def save_grade(path):\n",
    "    path = Path(path)\n",
    "    username = path.stem\n",
    "    assignment = path.parent.name\n",
    "    results = json.load(open(\"/tmp/grades.json\"))\n",
    "\n",
    "    correct = {p['problem'] for p in results if p['status'] == 'pass'}\n",
    "    all_problems = {p['problem'] for p in results if p['status']}\n",
    "    \n",
    "    grade = {\n",
    "        \"username\": username,\n",
    "        \"assignment\": assignment,\n",
    "        \"score\": len(correct),\n",
    "        \"max_score\": len(all_problems),\n",
    "        \"results\": results\n",
    "    }\n",
    "    key = f\"{assignment}/{username}\"\n",
    "    \n",
    "    with shelve.open(\"grades.db\")  as db:\n",
    "        db[key] = grade\n",
    "\n",
    "    return len(correct)\n",
    "\n",
    "def grade_assignments(assignment):\n",
    "    paths = Path(f\"archive/assignment-{assignment:02d}\").glob(\"*.ipynb\")\n",
    "    paths = list(paths)\n",
    "    \n",
    "    for p in paths:\n",
    "        grade(assignment, p)\n",
    "\n",
    "    generate_index(assignment)\n",
    "\n",
    "INDEX = \"\"\"\\\n",
    "---\n",
    "title: \"Assignment {assignment:02d}\"\n",
    "listing:\n",
    "  type: table\n",
    "  contents:\n",
    "    - \"*.ipynb\"\n",
    "  fields:\n",
    "   - title\n",
    "   - assignment\n",
    "   - file-modified\n",
    "   - score\n",
    "---\n",
    "\"\"\"\n",
    "\n",
    "def generate_index(assignment: int):\n",
    "    path = Path(\"Submissions\") / f\"A{assignment:02d}\" / \"index.qmd\"\n",
    "    text = INDEX.format(assignment=assignment)\n",
    "    path.write_text(text)"
   ]
  },
  {
   "cell_type": "code",
   "execution_count": null,
   "id": "6914acd2-24ca-4817-b88a-68ba0dc306de",
   "metadata": {},
   "outputs": [],
   "source": []
  },
  {
   "cell_type": "code",
   "execution_count": null,
   "id": "321f991e-58d5-40fd-b6bc-53f032bb66bc",
   "metadata": {},
   "outputs": [],
   "source": []
  },
  {
   "cell_type": "code",
   "execution_count": null,
   "id": "c3e8e065-3e1f-4605-8ca2-32029a11f565",
   "metadata": {},
   "outputs": [],
   "source": []
  },
  {
   "cell_type": "code",
   "execution_count": 6,
   "id": "5cc64e1c-469a-4afc-872a-95f312c22572",
   "metadata": {},
   "outputs": [
    {
     "name": "stdout",
     "output_type": "stream",
     "text": [
      "<Assignment#3 rohit_singh>\n",
      "cp /home/jupyter-rohit_singh/assignments/assignment-03.ipynb archive/assignment-03/rohit_singh.ipynb\n",
      "<Assignment#3 simran_banka>\n",
      "cp /home/jupyter-simran_banka/assignments/assignment-03.ipynb archive/assignment-03/simran_banka.ipynb\n",
      "<Assignment#3 tejeswar_ette>\n",
      "cp /home/jupyter-tejeswar_ette/assignments/assignment-03.ipynb archive/assignment-03/tejeswar_ette.ipynb\n",
      "<Assignment#3 chaitanya_datar>\n",
      "cp /home/jupyter-chaitanya_datar/assignments/assignment-03.ipynb archive/assignment-03/chaitanya_datar.ipynb\n",
      "<Assignment#3 ansh_paliwal>\n",
      "cp /home/jupyter-ansh_paliwal/assignments/assignment-03.ipynb archive/assignment-03/ansh_paliwal.ipynb\n",
      "<Assignment#3 rishita_goyanka>\n",
      "cp /home/jupyter-rishita_goyanka/assignments/assignment-03.ipynb archive/assignment-03/rishita_goyanka.ipynb\n",
      "<Assignment#3 turiganti_kumar>\n",
      "cp /home/jupyter-turiganti_kumar/assignments/assignment-03.ipynb archive/assignment-03/turiganti_kumar.ipynb\n",
      "<Assignment#3 gurupreet_mathadu>\n",
      "cp /home/jupyter-gurupreet_mathadu/assignments/assignment-03.ipynb archive/assignment-03/gurupreet_mathadu.ipynb\n",
      "<Assignment#3 vikrant>\n",
      "cp /home/jupyter-vikrant/assignments/assignment-03.ipynb archive/assignment-03/vikrant.ipynb\n",
      "<Assignment#3 harish_padhi>\n",
      "cp /home/jupyter-harish_padhi/assignments/assignment-03.ipynb archive/assignment-03/harish_padhi.ipynb\n",
      "<Assignment#3 sahil_arora>\n",
      "cp /home/jupyter-sahil_arora/assignments/assignment-03.ipynb archive/assignment-03/sahil_arora.ipynb\n",
      "<Assignment#3 rishi_brahma>\n",
      "cp /home/jupyter-rishi_brahma/assignments/assignment-03.ipynb archive/assignment-03/rishi_brahma.ipynb\n",
      "<Assignment#3 prasad_ankulwar>\n",
      "cp /home/jupyter-prasad_ankulwar/assignments/assignment-03.ipynb archive/assignment-03/prasad_ankulwar.ipynb\n",
      "<Assignment#3 shagun_yadav>\n",
      "cp /home/jupyter-shagun_yadav/assignments/assignment-03.ipynb archive/assignment-03/shagun_yadav.ipynb\n",
      "<Assignment#3 shuddhatma_jain>\n",
      "cp /home/jupyter-shuddhatma_jain/assignments/assignment-03.ipynb archive/assignment-03/shuddhatma_jain.ipynb\n",
      "<Assignment#3 rayala_sai>\n",
      "cp /home/jupyter-rayala_sai/assignments/assignment-03.ipynb archive/assignment-03/rayala_sai.ipynb\n",
      "<Assignment#3 himakar>\n",
      "cp /home/jupyter-himakar/assignments/assignment-03.ipynb archive/assignment-03/himakar.ipynb\n",
      "<Assignment#3 satyam_batra>\n",
      "cp /home/jupyter-satyam_batra/assignments/assignment-03.ipynb archive/assignment-03/satyam_batra.ipynb\n",
      "<Assignment#3 vinothkumar_v>\n",
      "cp /home/jupyter-vinothkumar_v/assignments/assignment-03.ipynb archive/assignment-03/vinothkumar_v.ipynb\n",
      "<Assignment#3 shubham_sagar>\n",
      "cp /home/jupyter-shubham_sagar/assignments/assignment-03.ipynb archive/assignment-03/shubham_sagar.ipynb\n",
      "<Assignment#3 swapnil_agrawal>\n",
      "cp /home/jupyter-swapnil_agrawal/assignments/assignment-03.ipynb archive/assignment-03/swapnil_agrawal.ipynb\n",
      "<Assignment#3 akshit_singhi>\n",
      "cp /home/jupyter-akshit_singhi/assignments/assignment-03.ipynb archive/assignment-03/akshit_singhi.ipynb\n",
      "<Assignment#3 aman_vithalni>\n",
      "cp /home/jupyter-aman_vithalni/assignments/assignment-03.ipynb archive/assignment-03/aman_vithalni.ipynb\n"
     ]
    }
   ],
   "source": [
    "!sudo python manage.py collect -a 3"
   ]
  },
  {
   "cell_type": "code",
   "execution_count": 7,
   "id": "232fd8e6-049a-44f2-868b-90563fca7e9e",
   "metadata": {},
   "outputs": [
    {
     "name": "stdout",
     "output_type": "stream",
     "text": [
      "Grading archive/assignment-03/satyam_batra.ipynb\n",
      "Added frontmatter\n",
      "saved Submissions/A03/satyam_batra.ipynb\n",
      "Grading archive/assignment-03/shagun_yadav.ipynb\n",
      "Added frontmatter\n",
      "saved Submissions/A03/shagun_yadav.ipynb\n",
      "Grading archive/assignment-03/sahil_arora.ipynb\n",
      "Added frontmatter\n",
      "saved Submissions/A03/sahil_arora.ipynb\n",
      "Grading archive/assignment-03/shubham_sagar.ipynb\n",
      "Added frontmatter\n",
      "saved Submissions/A03/shubham_sagar.ipynb\n",
      "Grading archive/assignment-03/aman_vithalni.ipynb\n",
      "Added frontmatter\n",
      "saved Submissions/A03/aman_vithalni.ipynb\n",
      "Grading archive/assignment-03/swapnil_agrawal.ipynb\n",
      "Added frontmatter\n",
      "saved Submissions/A03/swapnil_agrawal.ipynb\n",
      "Grading archive/assignment-03/chaitanya_datar.ipynb\n",
      "Added frontmatter\n",
      "saved Submissions/A03/chaitanya_datar.ipynb\n",
      "Grading archive/assignment-03/himakar.ipynb\n",
      "Added frontmatter\n",
      "saved Submissions/A03/himakar.ipynb\n",
      "Grading archive/assignment-03/akshit_singhi.ipynb\n",
      "Added frontmatter\n",
      "saved Submissions/A03/akshit_singhi.ipynb\n",
      "Grading archive/assignment-03/simran_banka.ipynb\n",
      "Added frontmatter\n",
      "saved Submissions/A03/simran_banka.ipynb\n",
      "Grading archive/assignment-03/harish_padhi.ipynb\n",
      "Added frontmatter\n",
      "saved Submissions/A03/harish_padhi.ipynb\n",
      "Grading archive/assignment-03/prasad_ankulwar.ipynb\n",
      "Added frontmatter\n",
      "saved Submissions/A03/prasad_ankulwar.ipynb\n",
      "Grading archive/assignment-03/rishi_brahma.ipynb\n",
      "Added frontmatter\n",
      "saved Submissions/A03/rishi_brahma.ipynb\n",
      "Grading archive/assignment-03/gurupreet_mathadu.ipynb\n",
      "Added frontmatter\n",
      "saved Submissions/A03/gurupreet_mathadu.ipynb\n",
      "Grading archive/assignment-03/turiganti_kumar.ipynb\n",
      "Added frontmatter\n",
      "saved Submissions/A03/turiganti_kumar.ipynb\n",
      "Grading archive/assignment-03/rayala_sai.ipynb\n",
      "Added frontmatter\n",
      "saved Submissions/A03/rayala_sai.ipynb\n",
      "Grading archive/assignment-03/vinothkumar_v.ipynb\n",
      "Added frontmatter\n",
      "saved Submissions/A03/vinothkumar_v.ipynb\n",
      "Grading archive/assignment-03/rishita_goyanka.ipynb\n",
      "Added frontmatter\n",
      "saved Submissions/A03/rishita_goyanka.ipynb\n",
      "Grading archive/assignment-03/tejeswar_ette.ipynb\n",
      "Added frontmatter\n",
      "saved Submissions/A03/tejeswar_ette.ipynb\n",
      "Grading archive/assignment-03/vikrant.ipynb\n",
      "Added frontmatter\n",
      "saved Submissions/A03/vikrant.ipynb\n",
      "Grading archive/assignment-03/shuddhatma_jain.ipynb\n",
      "Added frontmatter\n",
      "saved Submissions/A03/shuddhatma_jain.ipynb\n",
      "Grading archive/assignment-03/ansh_paliwal.ipynb\n",
      "Added frontmatter\n",
      "saved Submissions/A03/ansh_paliwal.ipynb\n",
      "Grading archive/assignment-03/rohit_singh.ipynb\n",
      "Added frontmatter\n",
      "saved Submissions/A03/rohit_singh.ipynb\n"
     ]
    }
   ],
   "source": [
    "grade_assignments(ASSIGNMENT)"
   ]
  },
  {
   "cell_type": "code",
   "execution_count": 8,
   "id": "c9ca86fd-09cc-4333-9d08-227bf6c7f6a9",
   "metadata": {},
   "outputs": [
    {
     "name": "stdout",
     "output_type": "stream",
     "text": [
      "assignment-03 satyam_batra 0 3\n",
      "assignment-03 shagun_yadav 1 3\n",
      "assignment-03 sahil_arora 1 3\n",
      "assignment-03 shubham_sagar 0 3\n",
      "assignment-03 aman_vithalni 1 3\n",
      "assignment-03 swapnil_agrawal 0 3\n",
      "assignment-03 chaitanya_datar 0 3\n",
      "assignment-03 himakar 0 3\n",
      "assignment-03 akshit_singhi 0 3\n",
      "assignment-03 simran_banka 0 3\n",
      "assignment-03 harish_padhi 1 3\n",
      "assignment-03 prasad_ankulwar 2 3\n",
      "assignment-03 rishi_brahma 0 3\n",
      "assignment-03 gurupreet_mathadu 2 3\n",
      "assignment-03 turiganti_kumar 1 3\n",
      "assignment-03 rayala_sai 1 3\n",
      "assignment-03 vinothkumar_v 0 3\n",
      "assignment-03 rishita_goyanka 0 3\n",
      "assignment-03 tejeswar_ette 1 3\n",
      "assignment-03 vikrant 0 3\n",
      "assignment-03 shuddhatma_jain 0 3\n",
      "assignment-03 ansh_paliwal 1 3\n",
      "assignment-03 rohit_singh 1 3\n"
     ]
    }
   ],
   "source": [
    "!python manage.py report -a 3"
   ]
  },
  {
   "cell_type": "code",
   "execution_count": null,
   "id": "27282238-7e71-4118-931a-a8e780551ed0",
   "metadata": {},
   "outputs": [],
   "source": []
  },
  {
   "cell_type": "markdown",
   "id": "75c1df76-ec1c-433f-ae9f-2598cdcc7edf",
   "metadata": {
    "execution": {
     "iopub.execute_input": "2023-10-08T17:37:47.022607Z",
     "iopub.status.busy": "2023-10-08T17:37:47.022308Z",
     "iopub.status.idle": "2023-10-08T17:37:47.026452Z",
     "shell.execute_reply": "2023-10-08T17:37:47.025594Z",
     "shell.execute_reply.started": "2023-10-08T17:37:47.022583Z"
    }
   },
   "source": [
    "## Assignment 02"
   ]
  },
  {
   "cell_type": "code",
   "execution_count": 42,
   "id": "c0d95dfb-e522-4f55-8a43-7cd16e25502e",
   "metadata": {
    "execution": {
     "iopub.execute_input": "2023-10-11T15:49:16.150313Z",
     "iopub.status.busy": "2023-10-11T15:49:16.149985Z",
     "iopub.status.idle": "2023-10-11T15:50:36.176762Z",
     "shell.execute_reply": "2023-10-11T15:50:36.175859Z",
     "shell.execute_reply.started": "2023-10-11T15:49:16.150281Z"
    }
   },
   "outputs": [
    {
     "name": "stdout",
     "output_type": "stream",
     "text": [
      "Grading archive/assignment-02/annapurna.ipynb\n",
      "Added frontmatter\n",
      "saved Submissions/A02/annapurna.ipynb\n",
      "Grading archive/assignment-02/saleem.ipynb\n",
      "Added frontmatter\n",
      "saved Submissions/A02/saleem.ipynb\n",
      "Grading archive/assignment-02/soumya.ipynb\n",
      "Added frontmatter\n",
      "saved Submissions/A02/soumya.ipynb\n",
      "Grading archive/assignment-02/zoya.ipynb\n",
      "Added frontmatter\n",
      "saved Submissions/A02/zoya.ipynb\n",
      "Grading archive/assignment-02/anand.ipynb\n",
      "Added frontmatter\n",
      "saved Submissions/A02/anand.ipynb\n",
      "Grading archive/assignment-02/abhishek.ipynb\n",
      "Added frontmatter\n",
      "saved Submissions/A02/abhishek.ipynb\n",
      "Grading archive/assignment-02/karan.ipynb\n",
      "Added frontmatter\n",
      "saved Submissions/A02/karan.ipynb\n",
      "Grading archive/assignment-02/anish.ipynb\n",
      "Added frontmatter\n",
      "saved Submissions/A02/anish.ipynb\n",
      "Grading archive/assignment-02/vipul.ipynb\n",
      "Added frontmatter\n",
      "saved Submissions/A02/vipul.ipynb\n",
      "Grading archive/assignment-02/akshay.ipynb\n",
      "Added frontmatter\n",
      "saved Submissions/A02/akshay.ipynb\n",
      "Grading archive/assignment-02/shivmani.ipynb\n",
      "Added frontmatter\n",
      "saved Submissions/A02/shivmani.ipynb\n",
      "Grading archive/assignment-02/manik.ipynb\n",
      "Added frontmatter\n",
      "saved Submissions/A02/manik.ipynb\n",
      "Grading archive/assignment-02/bhuvan.ipynb\n",
      "Added frontmatter\n",
      "saved Submissions/A02/bhuvan.ipynb\n",
      "Grading archive/assignment-02/bindhushree.ipynb\n",
      "Added frontmatter\n",
      "saved Submissions/A02/bindhushree.ipynb\n",
      "Grading archive/assignment-02/adithya.ipynb\n",
      "Added frontmatter\n",
      "saved Submissions/A02/adithya.ipynb\n",
      "Grading archive/assignment-02/lokesh.ipynb\n",
      "Added frontmatter\n",
      "saved Submissions/A02/lokesh.ipynb\n",
      "Grading archive/assignment-02/sindhu.ipynb\n",
      "Added frontmatter\n",
      "saved Submissions/A02/sindhu.ipynb\n",
      "Grading archive/assignment-02/anushka.ipynb\n",
      "Added frontmatter\n",
      "saved Submissions/A02/anushka.ipynb\n",
      "Grading archive/assignment-02/aravindhan.ipynb\n",
      "Added frontmatter\n",
      "saved Submissions/A02/aravindhan.ipynb\n",
      "Grading archive/assignment-02/vinay.ipynb\n",
      "Added frontmatter\n",
      "saved Submissions/A02/vinay.ipynb\n"
     ]
    }
   ],
   "source": [
    "grade_assignments(2)"
   ]
  },
  {
   "cell_type": "code",
   "execution_count": 28,
   "id": "2a1a657b-28f6-4b5f-b308-e53f3bbcc5f0",
   "metadata": {
    "execution": {
     "iopub.execute_input": "2023-10-08T17:39:35.149583Z",
     "iopub.status.busy": "2023-10-08T17:39:35.149248Z",
     "iopub.status.idle": "2023-10-08T17:39:35.915235Z",
     "shell.execute_reply": "2023-10-08T17:39:35.914497Z",
     "shell.execute_reply.started": "2023-10-08T17:39:35.149552Z"
    }
   },
   "outputs": [
    {
     "name": "stdout",
     "output_type": "stream",
     "text": [
      "assignment-02 annapurna 10 10\n",
      "assignment-02 saleem 10 10\n",
      "assignment-02 soumya 2 10\n",
      "assignment-02 zoya 9 10\n",
      "assignment-02 anand 0 10\n",
      "assignment-02 abhishek 10 10\n",
      "assignment-02 karan 10 10\n",
      "assignment-02 anish 10 10\n",
      "assignment-02 vipul 10 10\n",
      "assignment-02 akshay 10 10\n",
      "assignment-02 shivmani 5 10\n",
      "assignment-02 manik 10 10\n",
      "assignment-02 bhuvan 9 10\n",
      "assignment-02 bindhushree 9 10\n",
      "assignment-02 adithya 8 10\n",
      "assignment-02 lokesh 5 10\n",
      "assignment-02 sindhu 6 10\n",
      "assignment-02 anushka 3 10\n",
      "assignment-02 aravindhan 9 10\n",
      "assignment-02 vinay 8 10\n"
     ]
    }
   ],
   "source": [
    "!python manage.py report -a2"
   ]
  },
  {
   "cell_type": "code",
   "execution_count": 26,
   "id": "ed8c4db3-a911-4d5a-9080-702b3355a748",
   "metadata": {
    "execution": {
     "iopub.execute_input": "2023-10-08T17:37:58.452531Z",
     "iopub.status.busy": "2023-10-08T17:37:58.452220Z",
     "iopub.status.idle": "2023-10-08T17:37:59.207151Z",
     "shell.execute_reply": "2023-10-08T17:37:59.206228Z",
     "shell.execute_reply.started": "2023-10-08T17:37:58.452506Z"
    }
   },
   "outputs": [
    {
     "name": "stdout",
     "output_type": "stream",
     "text": [
      "assignment-02 annapurna 10 10\n",
      "assignment-02 saleem 10 10\n",
      "assignment-02 soumya 2 9\n",
      "assignment-02 zoya 9 9\n",
      "assignment-02 anand 0 9\n",
      "assignment-02 abhishek 9 9\n",
      "assignment-02 karan 10 10\n",
      "assignment-02 anish 10 10\n",
      "assignment-02 vipul 9 9\n",
      "assignment-02 akshay 10 10\n",
      "assignment-02 shivmani 5 9\n",
      "assignment-02 manik 10 10\n",
      "assignment-02 bhuvan 9 10\n",
      "assignment-02 bindhushree 9 9\n",
      "assignment-02 adithya 6 9\n",
      "assignment-02 lokesh 0 9\n",
      "assignment-02 sindhu 5 9\n",
      "assignment-02 anushka 0 9\n",
      "assignment-02 aravindhan 9 9\n",
      "assignment-02 vinay 8 9\n"
     ]
    }
   ],
   "source": [
    "!python manage.py report -a2"
   ]
  },
  {
   "cell_type": "markdown",
   "id": "1abacc13-d9ee-4ae6-ab60-6046bc02faf5",
   "metadata": {},
   "source": [
    "## Assignment 03"
   ]
  },
  {
   "cell_type": "code",
   "execution_count": 2,
   "id": "6dcd9b79-7452-4f1f-95b3-bcbb19e5023e",
   "metadata": {
    "execution": {
     "iopub.execute_input": "2023-10-09T05:28:55.269588Z",
     "iopub.status.busy": "2023-10-09T05:28:55.269254Z",
     "iopub.status.idle": "2023-10-09T05:28:56.264141Z",
     "shell.execute_reply": "2023-10-09T05:28:56.263207Z",
     "shell.execute_reply.started": "2023-10-09T05:28:55.269560Z"
    }
   },
   "outputs": [
    {
     "name": "stdout",
     "output_type": "stream",
     "text": [
      "<Assignment#3 soumya>\n",
      "cp /home/jupyter-soumya/assignments/assignment-03.ipynb archive/assignment-03/soumya.ipynb\n",
      "<Assignment#3 akshay>\n",
      "cp /home/jupyter-akshay/assignments/assignment-03.ipynb archive/assignment-03/akshay.ipynb\n",
      "<Assignment#3 bhuvan>\n",
      "cp /home/jupyter-bhuvan/assignments/assignment-03.ipynb archive/assignment-03/bhuvan.ipynb\n",
      "<Assignment#3 bindhushree>\n",
      "cp /home/jupyter-bindhushree/assignments/assignment-03.ipynb archive/assignment-03/bindhushree.ipynb\n",
      "<Assignment#3 karan>\n",
      "cp /home/jupyter-karan/assignments/assignment-03.ipynb archive/assignment-03/karan.ipynb\n",
      "<Assignment#3 zoya>\n",
      "cp /home/jupyter-zoya/assignments/assignment-03.ipynb archive/assignment-03/zoya.ipynb\n",
      "<Assignment#3 sindhu>\n",
      "cp /home/jupyter-sindhu/assignments/assignment-03.ipynb archive/assignment-03/sindhu.ipynb\n",
      "<Assignment#3 vinay>\n",
      "cp /home/jupyter-vinay/assignments/assignment-03.ipynb archive/assignment-03/vinay.ipynb\n",
      "<Assignment#3 anushka>\n",
      "cp /home/jupyter-anushka/assignments/assignment-03.ipynb archive/assignment-03/anushka.ipynb\n",
      "<Assignment#3 manik>\n",
      "cp /home/jupyter-manik/assignments/assignment-03.ipynb archive/assignment-03/manik.ipynb\n",
      "<Assignment#3 anand>\n",
      "cp /home/jupyter-anand/assignments/assignment-03.ipynb archive/assignment-03/anand.ipynb\n",
      "<Assignment#3 annapurna>\n",
      "cp /home/jupyter-annapurna/assignments/assignment-03.ipynb archive/assignment-03/annapurna.ipynb\n",
      "<Assignment#3 abhishek>\n",
      "cp /home/jupyter-abhishek/assignments/assignment-03.ipynb archive/assignment-03/abhishek.ipynb\n",
      "<Assignment#3 vipul>\n",
      "cp /home/jupyter-vipul/assignments/assignment-03.ipynb archive/assignment-03/vipul.ipynb\n",
      "<Assignment#3 aravindhan>\n",
      "cp /home/jupyter-aravindhan/assignments/assignment-03.ipynb archive/assignment-03/aravindhan.ipynb\n",
      "<Assignment#3 lokesh>\n",
      "cp /home/jupyter-lokesh/assignments/assignment-03.ipynb archive/assignment-03/lokesh.ipynb\n",
      "<Assignment#3 saleem>\n",
      "cp /home/jupyter-saleem/assignments/assignment-03.ipynb archive/assignment-03/saleem.ipynb\n",
      "<Assignment#3 adithya>\n",
      "cp /home/jupyter-adithya/assignments/assignment-03.ipynb archive/assignment-03/adithya.ipynb\n",
      "<Assignment#3 shivmani>\n",
      "cp /home/jupyter-shivmani/assignments/assignment-03.ipynb archive/assignment-03/shivmani.ipynb\n",
      "<Assignment#3 anish>\n",
      "cp /home/jupyter-anish/assignments/assignment-03.ipynb archive/assignment-03/anish.ipynb\n"
     ]
    }
   ],
   "source": [
    "!python manage.py collect -a 3"
   ]
  },
  {
   "cell_type": "code",
   "execution_count": 43,
   "id": "638f58cc-3929-43f0-8381-0c8c4242602e",
   "metadata": {
    "execution": {
     "iopub.execute_input": "2023-10-11T15:50:36.178134Z",
     "iopub.status.busy": "2023-10-11T15:50:36.177813Z",
     "iopub.status.idle": "2023-10-11T15:51:27.761276Z",
     "shell.execute_reply": "2023-10-11T15:51:27.758832Z",
     "shell.execute_reply.started": "2023-10-11T15:50:36.178103Z"
    }
   },
   "outputs": [
    {
     "name": "stdout",
     "output_type": "stream",
     "text": [
      "Grading archive/assignment-03/annapurna.ipynb\n",
      "Added frontmatter\n",
      "saved Submissions/A03/annapurna.ipynb\n",
      "Grading archive/assignment-03/saleem.ipynb\n",
      "Added frontmatter\n",
      "saved Submissions/A03/saleem.ipynb\n",
      "Grading archive/assignment-03/soumya.ipynb\n",
      "Added frontmatter\n",
      "saved Submissions/A03/soumya.ipynb\n",
      "Grading archive/assignment-03/zoya.ipynb\n",
      "Added frontmatter\n",
      "saved Submissions/A03/zoya.ipynb\n",
      "Grading archive/assignment-03/anand.ipynb\n",
      "Added frontmatter\n",
      "saved Submissions/A03/anand.ipynb\n",
      "Grading archive/assignment-03/abhishek.ipynb\n",
      "Added frontmatter\n",
      "saved Submissions/A03/abhishek.ipynb\n",
      "Grading archive/assignment-03/karan.ipynb\n",
      "Added frontmatter\n",
      "saved Submissions/A03/karan.ipynb\n",
      "Grading archive/assignment-03/anish.ipynb\n",
      "Added frontmatter\n",
      "saved Submissions/A03/anish.ipynb\n",
      "Grading archive/assignment-03/vipul.ipynb\n",
      "Added frontmatter\n",
      "saved Submissions/A03/vipul.ipynb\n",
      "Grading archive/assignment-03/akshay.ipynb\n",
      "Added frontmatter\n",
      "saved Submissions/A03/akshay.ipynb\n",
      "Grading archive/assignment-03/shivmani.ipynb\n",
      "Added frontmatter\n",
      "saved Submissions/A03/shivmani.ipynb\n",
      "Grading archive/assignment-03/manik.ipynb\n",
      "Added frontmatter\n",
      "saved Submissions/A03/manik.ipynb\n",
      "Grading archive/assignment-03/bhuvan.ipynb\n",
      "Added frontmatter\n",
      "saved Submissions/A03/bhuvan.ipynb\n",
      "Grading archive/assignment-03/bindhushree.ipynb\n",
      "Added frontmatter\n",
      "saved Submissions/A03/bindhushree.ipynb\n",
      "Grading archive/assignment-03/adithya.ipynb\n",
      "Added frontmatter\n",
      "saved Submissions/A03/adithya.ipynb\n",
      "Grading archive/assignment-03/lokesh.ipynb\n",
      "Added frontmatter\n",
      "saved Submissions/A03/lokesh.ipynb\n",
      "Grading archive/assignment-03/sindhu.ipynb\n",
      "Added frontmatter\n",
      "saved Submissions/A03/sindhu.ipynb\n",
      "Grading archive/assignment-03/anushka.ipynb\n",
      "Added frontmatter\n",
      "saved Submissions/A03/anushka.ipynb\n",
      "Grading archive/assignment-03/aravindhan.ipynb\n",
      "Added frontmatter\n",
      "saved Submissions/A03/aravindhan.ipynb\n",
      "Grading archive/assignment-03/vinay.ipynb\n",
      "Added frontmatter\n",
      "saved Submissions/A03/vinay.ipynb\n"
     ]
    }
   ],
   "source": [
    "grade_assignments(3)"
   ]
  },
  {
   "cell_type": "code",
   "execution_count": 22,
   "id": "feb234a6-d6da-410a-bef7-eb6fcf3912e1",
   "metadata": {
    "execution": {
     "iopub.execute_input": "2023-10-09T05:32:16.229527Z",
     "iopub.status.busy": "2023-10-09T05:32:16.229176Z",
     "iopub.status.idle": "2023-10-09T05:32:17.062561Z",
     "shell.execute_reply": "2023-10-09T05:32:17.061779Z",
     "shell.execute_reply.started": "2023-10-09T05:32:16.229494Z"
    }
   },
   "outputs": [
    {
     "name": "stdout",
     "output_type": "stream",
     "text": [
      "assignment-03 annapurna 5 5\n",
      "assignment-03 saleem 5 5\n",
      "assignment-03 soumya 3 5\n",
      "assignment-03 zoya 4 5\n",
      "assignment-03 anand 0 5\n",
      "assignment-03 abhishek 0 5\n",
      "assignment-03 karan 5 5\n",
      "assignment-03 anish 5 5\n",
      "assignment-03 vipul 5 5\n",
      "assignment-03 akshay 5 5\n",
      "assignment-03 shivmani 3 5\n",
      "assignment-03 manik 5 5\n",
      "assignment-03 bhuvan 5 5\n",
      "assignment-03 bindhushree 5 5\n",
      "assignment-03 adithya 5 5\n",
      "assignment-03 lokesh 0 5\n",
      "assignment-03 sindhu 5 5\n",
      "assignment-03 anushka 0 5\n",
      "assignment-03 aravindhan 5 5\n",
      "assignment-03 vinay 5 5\n"
     ]
    }
   ],
   "source": [
    "!python manage.py report -a3"
   ]
  },
  {
   "cell_type": "markdown",
   "id": "63474dd7-9aa9-45f4-85e7-8babdcf4ec23",
   "metadata": {},
   "source": [
    "## Assignment 04"
   ]
  },
  {
   "cell_type": "code",
   "execution_count": 2,
   "id": "354d9f03-823d-47c2-a05c-ef2aa0ac9012",
   "metadata": {
    "execution": {
     "iopub.execute_input": "2023-10-12T07:13:18.795699Z",
     "iopub.status.busy": "2023-10-12T07:13:18.795374Z",
     "iopub.status.idle": "2023-10-12T07:13:19.612284Z",
     "shell.execute_reply": "2023-10-12T07:13:19.611570Z",
     "shell.execute_reply.started": "2023-10-12T07:13:18.795673Z"
    }
   },
   "outputs": [
    {
     "name": "stdout",
     "output_type": "stream",
     "text": [
      "<Assignment#4 soumya>\n",
      "cp /home/jupyter-soumya/assignments/assignment-04.ipynb archive/assignment-04/soumya.ipynb\n",
      "<Assignment#4 akshay>\n",
      "cp /home/jupyter-akshay/assignments/assignment-04.ipynb archive/assignment-04/akshay.ipynb\n",
      "<Assignment#4 bhuvan>\n",
      "cp /home/jupyter-bhuvan/assignments/assignment-04.ipynb archive/assignment-04/bhuvan.ipynb\n",
      "<Assignment#4 bindhushree>\n",
      "cp /home/jupyter-bindhushree/assignments/assignment-04.ipynb archive/assignment-04/bindhushree.ipynb\n",
      "<Assignment#4 karan>\n",
      "cp /home/jupyter-karan/assignments/assignment-04.ipynb archive/assignment-04/karan.ipynb\n",
      "<Assignment#4 zoya>\n",
      "cp /home/jupyter-zoya/assignments/assignment-04.ipynb archive/assignment-04/zoya.ipynb\n",
      "<Assignment#4 sindhu>\n",
      "cp /home/jupyter-sindhu/assignments/assignment-04.ipynb archive/assignment-04/sindhu.ipynb\n",
      "<Assignment#4 vinay>\n",
      "cp /home/jupyter-vinay/assignments/assignment-04.ipynb archive/assignment-04/vinay.ipynb\n",
      "<Assignment#4 anushka>\n",
      "cp /home/jupyter-anushka/assignments/assignment-04.ipynb archive/assignment-04/anushka.ipynb\n",
      "<Assignment#4 manik>\n",
      "cp /home/jupyter-manik/assignments/assignment-04.ipynb archive/assignment-04/manik.ipynb\n",
      "<Assignment#4 anand>\n",
      "cp /home/jupyter-anand/assignments/assignment-04.ipynb archive/assignment-04/anand.ipynb\n",
      "<Assignment#4 annapurna>\n",
      "cp /home/jupyter-annapurna/assignments/assignment-04.ipynb archive/assignment-04/annapurna.ipynb\n",
      "<Assignment#4 abhishek>\n",
      "cp /home/jupyter-abhishek/assignments/assignment-04.ipynb archive/assignment-04/abhishek.ipynb\n",
      "<Assignment#4 vipul>\n",
      "cp /home/jupyter-vipul/assignments/assignment-04.ipynb archive/assignment-04/vipul.ipynb\n",
      "<Assignment#4 aravindhan>\n",
      "cp /home/jupyter-aravindhan/assignments/assignment-04.ipynb archive/assignment-04/aravindhan.ipynb\n",
      "<Assignment#4 lokesh>\n",
      "cp /home/jupyter-lokesh/assignments/assignment-04.ipynb archive/assignment-04/lokesh.ipynb\n",
      "<Assignment#4 saleem>\n",
      "cp /home/jupyter-saleem/assignments/assignment-04.ipynb archive/assignment-04/saleem.ipynb\n",
      "<Assignment#4 adithya>\n",
      "cp /home/jupyter-adithya/assignments/assignment-04.ipynb archive/assignment-04/adithya.ipynb\n",
      "<Assignment#4 shivmani>\n",
      "cp /home/jupyter-shivmani/assignments/assignment-04.ipynb archive/assignment-04/shivmani.ipynb\n",
      "<Assignment#4 anish>\n",
      "cp /home/jupyter-anish/assignments/assignment-04.ipynb archive/assignment-04/anish.ipynb\n"
     ]
    }
   ],
   "source": [
    "!python manage.py collect -a 4"
   ]
  },
  {
   "cell_type": "code",
   "execution_count": 10,
   "id": "518a6ad9-b4bb-4592-99e3-98b7e5fc668e",
   "metadata": {
    "execution": {
     "iopub.execute_input": "2023-10-12T07:13:47.898505Z",
     "iopub.status.busy": "2023-10-12T07:13:47.898188Z",
     "iopub.status.idle": "2023-10-12T07:15:04.913583Z",
     "shell.execute_reply": "2023-10-12T07:15:04.912721Z",
     "shell.execute_reply.started": "2023-10-12T07:13:47.898478Z"
    }
   },
   "outputs": [
    {
     "name": "stdout",
     "output_type": "stream",
     "text": [
      "Grading archive/assignment-04/annapurna.ipynb\n",
      "Added frontmatter\n",
      "saved Submissions/A04/annapurna.ipynb\n",
      "Grading archive/assignment-04/saleem.ipynb\n",
      "Added frontmatter\n",
      "saved Submissions/A04/saleem.ipynb\n",
      "Grading archive/assignment-04/soumya.ipynb\n",
      "Added frontmatter\n",
      "saved Submissions/A04/soumya.ipynb\n",
      "Grading archive/assignment-04/zoya.ipynb\n",
      "Added frontmatter\n",
      "saved Submissions/A04/zoya.ipynb\n",
      "Grading archive/assignment-04/anand.ipynb\n",
      "Added frontmatter\n",
      "saved Submissions/A04/anand.ipynb\n",
      "Grading archive/assignment-04/abhishek.ipynb\n",
      "Added frontmatter\n",
      "saved Submissions/A04/abhishek.ipynb\n",
      "Grading archive/assignment-04/karan.ipynb\n",
      "Added frontmatter\n",
      "saved Submissions/A04/karan.ipynb\n",
      "Grading archive/assignment-04/anish.ipynb\n",
      "Added frontmatter\n",
      "saved Submissions/A04/anish.ipynb\n",
      "Grading archive/assignment-04/vipul.ipynb\n",
      "Added frontmatter\n",
      "saved Submissions/A04/vipul.ipynb\n",
      "Grading archive/assignment-04/akshay.ipynb\n",
      "Added frontmatter\n",
      "saved Submissions/A04/akshay.ipynb\n",
      "Grading archive/assignment-04/shivmani.ipynb\n",
      "Added frontmatter\n",
      "saved Submissions/A04/shivmani.ipynb\n",
      "Grading archive/assignment-04/manik.ipynb\n",
      "Added frontmatter\n",
      "saved Submissions/A04/manik.ipynb\n",
      "Grading archive/assignment-04/bhuvan.ipynb\n",
      "Added frontmatter\n",
      "saved Submissions/A04/bhuvan.ipynb\n",
      "Grading archive/assignment-04/bindhushree.ipynb\n",
      "Added frontmatter\n",
      "saved Submissions/A04/bindhushree.ipynb\n",
      "Grading archive/assignment-04/adithya.ipynb\n",
      "Added frontmatter\n",
      "saved Submissions/A04/adithya.ipynb\n",
      "Grading archive/assignment-04/lokesh.ipynb\n",
      "Added frontmatter\n",
      "saved Submissions/A04/lokesh.ipynb\n",
      "Grading archive/assignment-04/sindhu.ipynb\n",
      "Added frontmatter\n",
      "saved Submissions/A04/sindhu.ipynb\n",
      "Grading archive/assignment-04/anushka.ipynb\n",
      "Added frontmatter\n",
      "saved Submissions/A04/anushka.ipynb\n",
      "Grading archive/assignment-04/aravindhan.ipynb\n",
      "Added frontmatter\n",
      "saved Submissions/A04/aravindhan.ipynb\n",
      "Grading archive/assignment-04/vinay.ipynb\n",
      "Added frontmatter\n",
      "saved Submissions/A04/vinay.ipynb\n"
     ]
    }
   ],
   "source": [
    "grade_assignments(4)"
   ]
  },
  {
   "cell_type": "code",
   "execution_count": 3,
   "id": "264ee040-0aa0-4e33-8579-9e81ee4e4f38",
   "metadata": {
    "execution": {
     "iopub.execute_input": "2023-10-12T07:13:27.857373Z",
     "iopub.status.busy": "2023-10-12T07:13:27.857026Z",
     "iopub.status.idle": "2023-10-12T07:13:28.995221Z",
     "shell.execute_reply": "2023-10-12T07:13:28.993908Z",
     "shell.execute_reply.started": "2023-10-12T07:13:27.857344Z"
    }
   },
   "outputs": [
    {
     "ename": "NameError",
     "evalue": "name 'generate_index' is not defined",
     "output_type": "error",
     "traceback": [
      "\u001b[0;31m---------------------------------------------------------------------------\u001b[0m",
      "\u001b[0;31mNameError\u001b[0m                                 Traceback (most recent call last)",
      "Cell \u001b[0;32mIn[3], line 2\u001b[0m\n\u001b[1;32m      1\u001b[0m \u001b[38;5;28;01mfor\u001b[39;00m i \u001b[38;5;129;01min\u001b[39;00m \u001b[38;5;28mrange\u001b[39m(\u001b[38;5;241m1\u001b[39m, \u001b[38;5;241m5\u001b[39m):\n\u001b[0;32m----> 2\u001b[0m     \u001b[43mgenerate_index\u001b[49m(i)\n",
      "\u001b[0;31mNameError\u001b[0m: name 'generate_index' is not defined"
     ]
    }
   ],
   "source": [
    "for i in range(1, 5):\n",
    "    generate_index(i)"
   ]
  },
  {
   "cell_type": "code",
   "execution_count": 11,
   "id": "b1f678a7-8f81-46d9-ad17-c9a4d30c9232",
   "metadata": {
    "execution": {
     "iopub.execute_input": "2023-10-12T07:15:04.915888Z",
     "iopub.status.busy": "2023-10-12T07:15:04.915229Z",
     "iopub.status.idle": "2023-10-12T07:15:05.729602Z",
     "shell.execute_reply": "2023-10-12T07:15:05.728773Z",
     "shell.execute_reply.started": "2023-10-12T07:15:04.915855Z"
    }
   },
   "outputs": [
    {
     "name": "stdout",
     "output_type": "stream",
     "text": [
      "assignment-04 annapurna 5 5\n",
      "assignment-04 saleem 5 5\n",
      "assignment-04 soumya 5 5\n",
      "assignment-04 zoya 5 5\n",
      "assignment-04 anand 0 5\n",
      "assignment-04 abhishek 4 5\n",
      "assignment-04 karan 4 5\n",
      "assignment-04 anish 5 5\n",
      "assignment-04 vipul 4 5\n",
      "assignment-04 akshay 4 5\n",
      "assignment-04 shivmani 1 5\n",
      "assignment-04 manik 5 5\n",
      "assignment-04 bhuvan 5 5\n",
      "assignment-04 bindhushree 4 5\n",
      "assignment-04 adithya 4 5\n",
      "assignment-04 lokesh 0 5\n",
      "assignment-04 sindhu 4 5\n",
      "assignment-04 anushka 0 5\n",
      "assignment-04 aravindhan 5 5\n",
      "assignment-04 vinay 5 5\n"
     ]
    }
   ],
   "source": [
    "!python manage.py report -a4"
   ]
  },
  {
   "cell_type": "markdown",
   "id": "3aa6b099-65f9-4935-a23f-2a5ed1d230f5",
   "metadata": {},
   "source": [
    "## Assignment 05"
   ]
  },
  {
   "cell_type": "code",
   "execution_count": 7,
   "id": "e5d5ed71-1b62-46b1-8d7f-3c59af409738",
   "metadata": {
    "execution": {
     "iopub.execute_input": "2023-10-19T05:38:14.055375Z",
     "iopub.status.busy": "2023-10-19T05:38:14.054568Z",
     "iopub.status.idle": "2023-10-19T05:38:14.059331Z",
     "shell.execute_reply": "2023-10-19T05:38:14.058314Z",
     "shell.execute_reply.started": "2023-10-19T05:38:14.055343Z"
    }
   },
   "outputs": [],
   "source": [
    "# !python manage.py collect -a 5"
   ]
  },
  {
   "cell_type": "code",
   "execution_count": 8,
   "id": "6ec3bd9f-7d84-4189-adbe-f01b8982c522",
   "metadata": {
    "execution": {
     "iopub.execute_input": "2023-10-19T05:38:15.682660Z",
     "iopub.status.busy": "2023-10-19T05:38:15.682344Z",
     "iopub.status.idle": "2023-10-19T05:39:14.944665Z",
     "shell.execute_reply": "2023-10-19T05:39:14.943702Z",
     "shell.execute_reply.started": "2023-10-19T05:38:15.682637Z"
    }
   },
   "outputs": [
    {
     "name": "stdout",
     "output_type": "stream",
     "text": [
      "Grading archive/assignment-05/annapurna.ipynb\n",
      "Added frontmatter\n",
      "saved Submissions/A05/annapurna.ipynb\n",
      "Grading archive/assignment-05/saleem.ipynb\n",
      "Added frontmatter\n",
      "saved Submissions/A05/saleem.ipynb\n",
      "Grading archive/assignment-05/soumya.ipynb\n",
      "Added frontmatter\n",
      "saved Submissions/A05/soumya.ipynb\n",
      "Grading archive/assignment-05/zoya.ipynb\n",
      "Added frontmatter\n",
      "saved Submissions/A05/zoya.ipynb\n",
      "Grading archive/assignment-05/anand.ipynb\n",
      "Added frontmatter\n",
      "saved Submissions/A05/anand.ipynb\n",
      "Grading archive/assignment-05/abhishek.ipynb\n",
      "Added frontmatter\n",
      "saved Submissions/A05/abhishek.ipynb\n",
      "Grading archive/assignment-05/karan.ipynb\n",
      "Added frontmatter\n",
      "saved Submissions/A05/karan.ipynb\n",
      "Grading archive/assignment-05/anish.ipynb\n",
      "Added frontmatter\n",
      "saved Submissions/A05/anish.ipynb\n",
      "Grading archive/assignment-05/vipul.ipynb\n",
      "Added frontmatter\n",
      "saved Submissions/A05/vipul.ipynb\n",
      "Grading archive/assignment-05/akshay.ipynb\n",
      "Added frontmatter\n",
      "saved Submissions/A05/akshay.ipynb\n",
      "Grading archive/assignment-05/shivmani.ipynb\n",
      "Added frontmatter\n",
      "saved Submissions/A05/shivmani.ipynb\n",
      "Grading archive/assignment-05/manik.ipynb\n",
      "Added frontmatter\n",
      "saved Submissions/A05/manik.ipynb\n",
      "Grading archive/assignment-05/bhuvan.ipynb\n",
      "Added frontmatter\n",
      "saved Submissions/A05/bhuvan.ipynb\n",
      "Grading archive/assignment-05/bindhushree.ipynb\n",
      "Added frontmatter\n",
      "saved Submissions/A05/bindhushree.ipynb\n",
      "Grading archive/assignment-05/adithya.ipynb\n",
      "Added frontmatter\n",
      "saved Submissions/A05/adithya.ipynb\n",
      "Grading archive/assignment-05/lokesh.ipynb\n",
      "Added frontmatter\n",
      "saved Submissions/A05/lokesh.ipynb\n",
      "Grading archive/assignment-05/sindhu.ipynb\n",
      "Added frontmatter\n",
      "saved Submissions/A05/sindhu.ipynb\n",
      "Grading archive/assignment-05/anushka.ipynb\n",
      "Added frontmatter\n",
      "saved Submissions/A05/anushka.ipynb\n",
      "Grading archive/assignment-05/aravindhan.ipynb\n",
      "Added frontmatter\n",
      "saved Submissions/A05/aravindhan.ipynb\n",
      "Grading archive/assignment-05/vinay.ipynb\n",
      "Added frontmatter\n",
      "saved Submissions/A05/vinay.ipynb\n"
     ]
    }
   ],
   "source": [
    "grade_assignments(5)"
   ]
  },
  {
   "cell_type": "markdown",
   "id": "0f70f28d-25d0-4b8a-971c-be1fb2918957",
   "metadata": {},
   "source": [
    "## Assignment 06"
   ]
  },
  {
   "cell_type": "code",
   "execution_count": 20,
   "id": "17b74ea7-5ef4-44ab-a0d3-6fbe409bd952",
   "metadata": {
    "execution": {
     "iopub.execute_input": "2023-10-19T19:49:13.879918Z",
     "iopub.status.busy": "2023-10-19T19:49:13.879364Z",
     "iopub.status.idle": "2023-10-19T19:49:13.883930Z",
     "shell.execute_reply": "2023-10-19T19:49:13.883216Z",
     "shell.execute_reply.started": "2023-10-19T19:49:13.879883Z"
    }
   },
   "outputs": [],
   "source": [
    "# !python manage.py collect -a 6"
   ]
  },
  {
   "cell_type": "code",
   "execution_count": 28,
   "id": "99f933b4-98bf-49c2-b8f9-e9244d8345ac",
   "metadata": {
    "execution": {
     "iopub.execute_input": "2023-10-19T19:49:44.589442Z",
     "iopub.status.busy": "2023-10-19T19:49:44.589169Z",
     "iopub.status.idle": "2023-10-19T19:50:43.256258Z",
     "shell.execute_reply": "2023-10-19T19:50:43.255488Z",
     "shell.execute_reply.started": "2023-10-19T19:49:44.589419Z"
    }
   },
   "outputs": [
    {
     "name": "stdout",
     "output_type": "stream",
     "text": [
      "Grading archive/assignment-06/annapurna.ipynb\n",
      "Added frontmatter\n",
      "saved Submissions/A06/annapurna.ipynb\n",
      "Grading archive/assignment-06/saleem.ipynb\n",
      "Added frontmatter\n",
      "saved Submissions/A06/saleem.ipynb\n",
      "Grading archive/assignment-06/soumya.ipynb\n",
      "Added frontmatter\n",
      "saved Submissions/A06/soumya.ipynb\n",
      "Grading archive/assignment-06/zoya.ipynb\n",
      "Added frontmatter\n",
      "saved Submissions/A06/zoya.ipynb\n",
      "Grading archive/assignment-06/anand.ipynb\n",
      "Added frontmatter\n",
      "saved Submissions/A06/anand.ipynb\n",
      "Grading archive/assignment-06/abhishek.ipynb\n",
      "Added frontmatter\n",
      "saved Submissions/A06/abhishek.ipynb\n",
      "Grading archive/assignment-06/karan.ipynb\n",
      "Added frontmatter\n",
      "saved Submissions/A06/karan.ipynb\n",
      "Grading archive/assignment-06/anish.ipynb\n",
      "Added frontmatter\n",
      "saved Submissions/A06/anish.ipynb\n",
      "Grading archive/assignment-06/vipul.ipynb\n",
      "Added frontmatter\n",
      "saved Submissions/A06/vipul.ipynb\n",
      "Grading archive/assignment-06/akshay.ipynb\n",
      "Added frontmatter\n",
      "saved Submissions/A06/akshay.ipynb\n",
      "Grading archive/assignment-06/shivmani.ipynb\n",
      "Added frontmatter\n",
      "saved Submissions/A06/shivmani.ipynb\n",
      "Grading archive/assignment-06/manik.ipynb\n",
      "Added frontmatter\n",
      "saved Submissions/A06/manik.ipynb\n",
      "Grading archive/assignment-06/bhuvan.ipynb\n",
      "Added frontmatter\n",
      "saved Submissions/A06/bhuvan.ipynb\n",
      "Grading archive/assignment-06/bindhushree.ipynb\n",
      "Added frontmatter\n",
      "saved Submissions/A06/bindhushree.ipynb\n",
      "Grading archive/assignment-06/adithya.ipynb\n",
      "Added frontmatter\n",
      "saved Submissions/A06/adithya.ipynb\n",
      "Grading archive/assignment-06/lokesh.ipynb\n",
      "Added frontmatter\n",
      "saved Submissions/A06/lokesh.ipynb\n",
      "Grading archive/assignment-06/sindhu.ipynb\n",
      "Added frontmatter\n",
      "saved Submissions/A06/sindhu.ipynb\n",
      "Grading archive/assignment-06/anushka.ipynb\n",
      "Added frontmatter\n",
      "saved Submissions/A06/anushka.ipynb\n",
      "Grading archive/assignment-06/aravindhan.ipynb\n",
      "Added frontmatter\n",
      "saved Submissions/A06/aravindhan.ipynb\n",
      "Grading archive/assignment-06/vinay.ipynb\n",
      "Added frontmatter\n",
      "saved Submissions/A06/vinay.ipynb\n"
     ]
    }
   ],
   "source": [
    "grade_assignments(6)"
   ]
  },
  {
   "cell_type": "markdown",
   "id": "1d9891aa-8f6a-42b9-9acc-366d7dc7bd8d",
   "metadata": {},
   "source": [
    "## Assignment 07"
   ]
  },
  {
   "cell_type": "code",
   "execution_count": 6,
   "id": "b0b4a386-9011-4356-9a51-26ed675ce6e6",
   "metadata": {
    "execution": {
     "iopub.execute_input": "2023-10-26T06:19:26.202060Z",
     "iopub.status.busy": "2023-10-26T06:19:26.201389Z",
     "iopub.status.idle": "2023-10-26T06:19:26.989584Z",
     "shell.execute_reply": "2023-10-26T06:19:26.988536Z",
     "shell.execute_reply.started": "2023-10-26T06:19:26.202031Z"
    }
   },
   "outputs": [
    {
     "name": "stdout",
     "output_type": "stream",
     "text": [
      "<Assignment#7 soumya>\n",
      "cp /home/jupyter-soumya/assignments/assignment-07.ipynb archive/assignment-07/soumya.ipynb\n",
      "<Assignment#7 akshay>\n",
      "cp /home/jupyter-akshay/assignments/assignment-07.ipynb archive/assignment-07/akshay.ipynb\n",
      "<Assignment#7 bhuvan>\n",
      "cp /home/jupyter-bhuvan/assignments/assignment-07.ipynb archive/assignment-07/bhuvan.ipynb\n",
      "<Assignment#7 bindhushree>\n",
      "cp /home/jupyter-bindhushree/assignments/assignment-07.ipynb archive/assignment-07/bindhushree.ipynb\n",
      "<Assignment#7 karan>\n",
      "cp /home/jupyter-karan/assignments/assignment-07.ipynb archive/assignment-07/karan.ipynb\n",
      "<Assignment#7 zoya>\n",
      "cp /home/jupyter-zoya/assignments/assignment-07.ipynb archive/assignment-07/zoya.ipynb\n",
      "<Assignment#7 sindhu>\n",
      "cp /home/jupyter-sindhu/assignments/assignment-07.ipynb archive/assignment-07/sindhu.ipynb\n",
      "<Assignment#7 vinay>\n",
      "cp /home/jupyter-vinay/assignments/assignment-07.ipynb archive/assignment-07/vinay.ipynb\n",
      "<Assignment#7 anushka>\n",
      "cp /home/jupyter-anushka/assignments/assignment-07.ipynb archive/assignment-07/anushka.ipynb\n",
      "<Assignment#7 manik>\n",
      "cp /home/jupyter-manik/assignments/assignment-07.ipynb archive/assignment-07/manik.ipynb\n",
      "<Assignment#7 anand>\n",
      "cp /home/jupyter-anand/assignments/assignment-07.ipynb archive/assignment-07/anand.ipynb\n",
      "<Assignment#7 annapurna>\n",
      "cp /home/jupyter-annapurna/assignments/assignment-07.ipynb archive/assignment-07/annapurna.ipynb\n",
      "<Assignment#7 abhishek>\n",
      "cp /home/jupyter-abhishek/assignments/assignment-07.ipynb archive/assignment-07/abhishek.ipynb\n",
      "<Assignment#7 vipul>\n",
      "cp /home/jupyter-vipul/assignments/assignment-07.ipynb archive/assignment-07/vipul.ipynb\n",
      "<Assignment#7 aravindhan>\n",
      "cp /home/jupyter-aravindhan/assignments/assignment-07.ipynb archive/assignment-07/aravindhan.ipynb\n",
      "<Assignment#7 lokesh>\n",
      "cp /home/jupyter-lokesh/assignments/assignment-07.ipynb archive/assignment-07/lokesh.ipynb\n",
      "<Assignment#7 saleem>\n",
      "cp /home/jupyter-saleem/assignments/assignment-07.ipynb archive/assignment-07/saleem.ipynb\n",
      "<Assignment#7 adithya>\n",
      "cp /home/jupyter-adithya/assignments/assignment-07.ipynb archive/assignment-07/adithya.ipynb\n",
      "<Assignment#7 shivmani>\n",
      "cp /home/jupyter-shivmani/assignments/assignment-07.ipynb archive/assignment-07/shivmani.ipynb\n",
      "<Assignment#7 anish>\n",
      "cp /home/jupyter-anish/assignments/assignment-07.ipynb archive/assignment-07/anish.ipynb\n"
     ]
    }
   ],
   "source": [
    "!python manage.py collect -a 7"
   ]
  },
  {
   "cell_type": "code",
   "execution_count": 7,
   "id": "f8e7ec23-7bc9-49e9-b71c-7bd0f29c85a2",
   "metadata": {
    "execution": {
     "iopub.execute_input": "2023-10-26T06:19:27.178195Z",
     "iopub.status.busy": "2023-10-26T06:19:27.177399Z",
     "iopub.status.idle": "2023-10-26T06:35:09.261046Z",
     "shell.execute_reply": "2023-10-26T06:35:09.259880Z",
     "shell.execute_reply.started": "2023-10-26T06:19:27.178150Z"
    }
   },
   "outputs": [
    {
     "name": "stdout",
     "output_type": "stream",
     "text": [
      "Grading archive/assignment-07/annapurna.ipynb\n",
      "Added frontmatter\n",
      "saved Submissions/A07/annapurna.ipynb\n",
      "Grading archive/assignment-07/saleem.ipynb\n",
      "Added frontmatter\n",
      "saved Submissions/A07/saleem.ipynb\n",
      "Grading archive/assignment-07/soumya.ipynb\n",
      "Added frontmatter\n",
      "saved Submissions/A07/soumya.ipynb\n",
      "Grading archive/assignment-07/zoya.ipynb\n",
      "Added frontmatter\n",
      "saved Submissions/A07/zoya.ipynb\n",
      "Grading archive/assignment-07/anand.ipynb\n",
      "Added frontmatter\n",
      "saved Submissions/A07/anand.ipynb\n",
      "Grading archive/assignment-07/abhishek.ipynb\n",
      "Added frontmatter\n",
      "saved Submissions/A07/abhishek.ipynb\n",
      "Grading archive/assignment-07/karan.ipynb\n",
      "Added frontmatter\n",
      "saved Submissions/A07/karan.ipynb\n",
      "Grading archive/assignment-07/anish.ipynb\n",
      "Added frontmatter\n",
      "saved Submissions/A07/anish.ipynb\n",
      "Grading archive/assignment-07/vipul.ipynb\n",
      "Added frontmatter\n",
      "saved Submissions/A07/vipul.ipynb\n",
      "Grading archive/assignment-07/akshay.ipynb\n",
      "Added frontmatter\n",
      "saved Submissions/A07/akshay.ipynb\n",
      "Grading archive/assignment-07/shivmani.ipynb\n",
      "Added frontmatter\n",
      "saved Submissions/A07/shivmani.ipynb\n",
      "Grading archive/assignment-07/manik.ipynb\n",
      "Added frontmatter\n",
      "saved Submissions/A07/manik.ipynb\n",
      "Grading archive/assignment-07/bhuvan.ipynb\n",
      "Added frontmatter\n",
      "saved Submissions/A07/bhuvan.ipynb\n",
      "Grading archive/assignment-07/bindhushree.ipynb\n",
      "Added frontmatter\n",
      "saved Submissions/A07/bindhushree.ipynb\n",
      "Grading archive/assignment-07/adithya.ipynb\n",
      "Added frontmatter\n",
      "saved Submissions/A07/adithya.ipynb\n",
      "Grading archive/assignment-07/lokesh.ipynb\n",
      "Added frontmatter\n",
      "saved Submissions/A07/lokesh.ipynb\n",
      "Grading archive/assignment-07/sindhu.ipynb\n",
      "Added frontmatter\n",
      "saved Submissions/A07/sindhu.ipynb\n",
      "Grading archive/assignment-07/anushka.ipynb\n",
      "Added frontmatter\n",
      "saved Submissions/A07/anushka.ipynb\n",
      "Grading archive/assignment-07/aravindhan.ipynb\n",
      "Added frontmatter\n",
      "saved Submissions/A07/aravindhan.ipynb\n",
      "Grading archive/assignment-07/vinay.ipynb\n",
      "Added frontmatter\n",
      "saved Submissions/A07/vinay.ipynb\n"
     ]
    }
   ],
   "source": [
    "grade_assignments(7)"
   ]
  },
  {
   "cell_type": "markdown",
   "id": "5dcc41f6-7a9a-49c2-a313-788e333ad1cf",
   "metadata": {},
   "source": [
    "### Assignment 8"
   ]
  },
  {
   "cell_type": "code",
   "execution_count": 8,
   "id": "299c5654-cf36-4892-b6a6-7615fdc328b2",
   "metadata": {
    "execution": {
     "iopub.execute_input": "2023-10-26T06:35:09.266349Z",
     "iopub.status.busy": "2023-10-26T06:35:09.264101Z",
     "iopub.status.idle": "2023-10-26T06:35:10.124040Z",
     "shell.execute_reply": "2023-10-26T06:35:10.123260Z",
     "shell.execute_reply.started": "2023-10-26T06:35:09.266309Z"
    }
   },
   "outputs": [
    {
     "name": "stdout",
     "output_type": "stream",
     "text": [
      "<Assignment#8 soumya>\n",
      "cp /home/jupyter-soumya/assignments/assignment-08.ipynb archive/assignment-08/soumya.ipynb\n",
      "<Assignment#8 akshay>\n",
      "cp /home/jupyter-akshay/assignments/assignment-08.ipynb archive/assignment-08/akshay.ipynb\n",
      "<Assignment#8 bhuvan>\n",
      "cp /home/jupyter-bhuvan/assignments/assignment-08.ipynb archive/assignment-08/bhuvan.ipynb\n",
      "<Assignment#8 bindhushree>\n",
      "cp /home/jupyter-bindhushree/assignments/assignment-08.ipynb archive/assignment-08/bindhushree.ipynb\n",
      "<Assignment#8 karan>\n",
      "cp /home/jupyter-karan/assignments/assignment-08.ipynb archive/assignment-08/karan.ipynb\n",
      "<Assignment#8 zoya>\n",
      "cp /home/jupyter-zoya/assignments/assignment-08.ipynb archive/assignment-08/zoya.ipynb\n",
      "<Assignment#8 sindhu>\n",
      "cp /home/jupyter-sindhu/assignments/assignment-08.ipynb archive/assignment-08/sindhu.ipynb\n",
      "<Assignment#8 vinay>\n",
      "cp /home/jupyter-vinay/assignments/assignment-08.ipynb archive/assignment-08/vinay.ipynb\n",
      "<Assignment#8 anushka>\n",
      "cp /home/jupyter-anushka/assignments/assignment-08.ipynb archive/assignment-08/anushka.ipynb\n",
      "<Assignment#8 manik>\n",
      "cp /home/jupyter-manik/assignments/assignment-08.ipynb archive/assignment-08/manik.ipynb\n",
      "<Assignment#8 anand>\n",
      "cp /home/jupyter-anand/assignments/assignment-08.ipynb archive/assignment-08/anand.ipynb\n",
      "<Assignment#8 annapurna>\n",
      "cp /home/jupyter-annapurna/assignments/assignment-08.ipynb archive/assignment-08/annapurna.ipynb\n",
      "<Assignment#8 abhishek>\n",
      "cp /home/jupyter-abhishek/assignments/assignment-08.ipynb archive/assignment-08/abhishek.ipynb\n",
      "<Assignment#8 vipul>\n",
      "cp /home/jupyter-vipul/assignments/assignment-08.ipynb archive/assignment-08/vipul.ipynb\n",
      "<Assignment#8 aravindhan>\n",
      "cp /home/jupyter-aravindhan/assignments/assignment-08.ipynb archive/assignment-08/aravindhan.ipynb\n",
      "<Assignment#8 lokesh>\n",
      "cp /home/jupyter-lokesh/assignments/assignment-08.ipynb archive/assignment-08/lokesh.ipynb\n",
      "<Assignment#8 saleem>\n",
      "cp /home/jupyter-saleem/assignments/assignment-08.ipynb archive/assignment-08/saleem.ipynb\n",
      "<Assignment#8 adithya>\n",
      "cp /home/jupyter-adithya/assignments/assignment-08.ipynb archive/assignment-08/adithya.ipynb\n",
      "<Assignment#8 shivmani>\n",
      "cp /home/jupyter-shivmani/assignments/assignment-08.ipynb archive/assignment-08/shivmani.ipynb\n",
      "<Assignment#8 anish>\n",
      "cp /home/jupyter-anish/assignments/assignment-08.ipynb archive/assignment-08/anish.ipynb\n"
     ]
    }
   ],
   "source": [
    "!python manage.py collect -a 8"
   ]
  },
  {
   "cell_type": "code",
   "execution_count": 9,
   "id": "50e93338-d363-42e7-8daa-723ff5dae0d1",
   "metadata": {
    "execution": {
     "iopub.execute_input": "2023-10-26T06:45:30.013922Z",
     "iopub.status.busy": "2023-10-26T06:45:30.013571Z",
     "iopub.status.idle": "2023-10-26T06:46:31.012276Z",
     "shell.execute_reply": "2023-10-26T06:46:31.011541Z",
     "shell.execute_reply.started": "2023-10-26T06:45:30.013890Z"
    }
   },
   "outputs": [
    {
     "name": "stdout",
     "output_type": "stream",
     "text": [
      "Grading archive/assignment-08/annapurna.ipynb\n",
      "Added frontmatter\n",
      "saved Submissions/A08/annapurna.ipynb\n",
      "Grading archive/assignment-08/saleem.ipynb\n"
     ]
    },
    {
     "name": "stderr",
     "output_type": "stream",
     "text": [
      "dig: couldn't get address for '@dns.toys': not found\n"
     ]
    },
    {
     "name": "stdout",
     "output_type": "stream",
     "text": [
      "Added frontmatter\n",
      "saved Submissions/A08/saleem.ipynb\n",
      "Grading archive/assignment-08/soumya.ipynb\n",
      "Added frontmatter\n",
      "saved Submissions/A08/soumya.ipynb\n",
      "Grading archive/assignment-08/zoya.ipynb\n",
      "Added frontmatter\n",
      "saved Submissions/A08/zoya.ipynb\n",
      "Grading archive/assignment-08/anand.ipynb\n",
      "Added frontmatter\n",
      "saved Submissions/A08/anand.ipynb\n",
      "Grading archive/assignment-08/abhishek.ipynb\n",
      "Added frontmatter\n",
      "saved Submissions/A08/abhishek.ipynb\n",
      "Grading archive/assignment-08/karan.ipynb\n",
      "Added frontmatter\n",
      "saved Submissions/A08/karan.ipynb\n",
      "Grading archive/assignment-08/anish.ipynb\n"
     ]
    },
    {
     "name": "stderr",
     "output_type": "stream",
     "text": [
      "dig: couldn't get address for '': not found\n",
      "dig: couldn't get address for '': not found\n"
     ]
    },
    {
     "name": "stdout",
     "output_type": "stream",
     "text": [
      "Added frontmatter\n",
      "saved Submissions/A08/anish.ipynb\n",
      "Grading archive/assignment-08/vipul.ipynb\n",
      "Added frontmatter\n",
      "saved Submissions/A08/vipul.ipynb\n",
      "Grading archive/assignment-08/akshay.ipynb\n",
      "Added frontmatter\n",
      "saved Submissions/A08/akshay.ipynb\n",
      "Grading archive/assignment-08/shivmani.ipynb\n",
      "Added frontmatter\n",
      "saved Submissions/A08/shivmani.ipynb\n",
      "Grading archive/assignment-08/manik.ipynb\n",
      "Added frontmatter\n",
      "saved Submissions/A08/manik.ipynb\n",
      "Grading archive/assignment-08/bhuvan.ipynb\n",
      "Added frontmatter\n",
      "saved Submissions/A08/bhuvan.ipynb\n",
      "Grading archive/assignment-08/bindhushree.ipynb\n",
      "Added frontmatter\n",
      "saved Submissions/A08/bindhushree.ipynb\n",
      "Grading archive/assignment-08/adithya.ipynb\n",
      "Added frontmatter\n",
      "saved Submissions/A08/adithya.ipynb\n",
      "Grading archive/assignment-08/lokesh.ipynb\n",
      "Added frontmatter\n",
      "saved Submissions/A08/lokesh.ipynb\n",
      "Grading archive/assignment-08/sindhu.ipynb\n",
      "Added frontmatter\n",
      "saved Submissions/A08/sindhu.ipynb\n",
      "Grading archive/assignment-08/anushka.ipynb\n",
      "Added frontmatter\n",
      "saved Submissions/A08/anushka.ipynb\n",
      "Grading archive/assignment-08/aravindhan.ipynb\n",
      "Added frontmatter\n",
      "saved Submissions/A08/aravindhan.ipynb\n",
      "Grading archive/assignment-08/vinay.ipynb\n",
      "Added frontmatter\n",
      "saved Submissions/A08/vinay.ipynb\n"
     ]
    }
   ],
   "source": [
    "grade_assignments(8)"
   ]
  },
  {
   "cell_type": "markdown",
   "id": "1b23db2e-07b7-43ff-a7b8-820e85a4267d",
   "metadata": {},
   "source": [
    "### Assignment 09"
   ]
  },
  {
   "cell_type": "code",
   "execution_count": 1,
   "id": "75246c9a-ebd3-40c5-b591-1108630e7c7c",
   "metadata": {
    "execution": {
     "iopub.execute_input": "2023-11-02T02:43:40.506897Z",
     "iopub.status.busy": "2023-11-02T02:43:40.506593Z",
     "iopub.status.idle": "2023-11-02T02:43:41.252037Z",
     "shell.execute_reply": "2023-11-02T02:43:41.251236Z",
     "shell.execute_reply.started": "2023-11-02T02:43:40.506873Z"
    }
   },
   "outputs": [
    {
     "name": "stdout",
     "output_type": "stream",
     "text": [
      "<Assignment#9 soumya>\n",
      "cp /home/jupyter-soumya/assignments/assignment-09.ipynb archive/assignment-09/soumya.ipynb\n",
      "<Assignment#9 akshay>\n",
      "cp /home/jupyter-akshay/assignments/assignment-09.ipynb archive/assignment-09/akshay.ipynb\n",
      "<Assignment#9 bhuvan>\n",
      "cp /home/jupyter-bhuvan/assignments/assignment-09.ipynb archive/assignment-09/bhuvan.ipynb\n",
      "<Assignment#9 bindhushree>\n",
      "cp /home/jupyter-bindhushree/assignments/assignment-09.ipynb archive/assignment-09/bindhushree.ipynb\n",
      "<Assignment#9 karan>\n",
      "cp /home/jupyter-karan/assignments/assignment-09.ipynb archive/assignment-09/karan.ipynb\n",
      "<Assignment#9 zoya>\n",
      "cp /home/jupyter-zoya/assignments/assignment-09.ipynb archive/assignment-09/zoya.ipynb\n",
      "<Assignment#9 sindhu>\n",
      "cp /home/jupyter-sindhu/assignments/assignment-09.ipynb archive/assignment-09/sindhu.ipynb\n",
      "<Assignment#9 vinay>\n",
      "cp /home/jupyter-vinay/assignments/assignment-09.ipynb archive/assignment-09/vinay.ipynb\n",
      "<Assignment#9 anushka>\n",
      "cp /home/jupyter-anushka/assignments/assignment-09.ipynb archive/assignment-09/anushka.ipynb\n",
      "<Assignment#9 manik>\n",
      "cp /home/jupyter-manik/assignments/assignment-09.ipynb archive/assignment-09/manik.ipynb\n",
      "<Assignment#9 anand>\n",
      "cp /home/jupyter-anand/assignments/assignment-09.ipynb archive/assignment-09/anand.ipynb\n",
      "<Assignment#9 annapurna>\n",
      "cp /home/jupyter-annapurna/assignments/assignment-09.ipynb archive/assignment-09/annapurna.ipynb\n",
      "<Assignment#9 abhishek>\n",
      "cp /home/jupyter-abhishek/assignments/assignment-09.ipynb archive/assignment-09/abhishek.ipynb\n",
      "<Assignment#9 vipul>\n",
      "cp /home/jupyter-vipul/assignments/assignment-09.ipynb archive/assignment-09/vipul.ipynb\n",
      "<Assignment#9 aravindhan>\n",
      "cp /home/jupyter-aravindhan/assignments/assignment-09.ipynb archive/assignment-09/aravindhan.ipynb\n",
      "<Assignment#9 lokesh>\n",
      "cp /home/jupyter-lokesh/assignments/assignment-09.ipynb archive/assignment-09/lokesh.ipynb\n",
      "<Assignment#9 saleem>\n",
      "cp /home/jupyter-saleem/assignments/assignment-09.ipynb archive/assignment-09/saleem.ipynb\n",
      "<Assignment#9 adithya>\n",
      "cp /home/jupyter-adithya/assignments/assignment-09.ipynb archive/assignment-09/adithya.ipynb\n",
      "<Assignment#9 shivmani>\n",
      "cp /home/jupyter-shivmani/assignments/assignment-09.ipynb archive/assignment-09/shivmani.ipynb\n",
      "<Assignment#9 anish>\n",
      "cp /home/jupyter-anish/assignments/assignment-09.ipynb archive/assignment-09/anish.ipynb\n"
     ]
    }
   ],
   "source": [
    "!python manage.py collect -a 9"
   ]
  },
  {
   "cell_type": "code",
   "execution_count": 56,
   "id": "5a6801dd-760e-4485-b23b-0d18d1c7156e",
   "metadata": {
    "execution": {
     "iopub.execute_input": "2023-11-02T05:42:22.403834Z",
     "iopub.status.busy": "2023-11-02T05:42:22.403556Z",
     "iopub.status.idle": "2023-11-02T05:45:01.425431Z",
     "shell.execute_reply": "2023-11-02T05:45:01.424603Z",
     "shell.execute_reply.started": "2023-11-02T05:42:22.403811Z"
    }
   },
   "outputs": [
    {
     "name": "stdout",
     "output_type": "stream",
     "text": [
      "Grading archive/assignment-09/annapurna.ipynb\n",
      "Added frontmatter\n",
      "saved Submissions/A09/annapurna.ipynb\n",
      "Grading archive/assignment-09/saleem.ipynb\n",
      "Added frontmatter\n",
      "saved Submissions/A09/saleem.ipynb\n",
      "Grading archive/assignment-09/soumya.ipynb\n",
      "Added frontmatter\n",
      "saved Submissions/A09/soumya.ipynb\n",
      "Grading archive/assignment-09/zoya.ipynb\n",
      "Added frontmatter\n",
      "saved Submissions/A09/zoya.ipynb\n",
      "Grading archive/assignment-09/anand.ipynb\n",
      "Added frontmatter\n",
      "saved Submissions/A09/anand.ipynb\n",
      "Grading archive/assignment-09/abhishek.ipynb\n",
      "Added frontmatter\n",
      "saved Submissions/A09/abhishek.ipynb\n",
      "Grading archive/assignment-09/karan.ipynb\n",
      "Added frontmatter\n",
      "saved Submissions/A09/karan.ipynb\n",
      "Grading archive/assignment-09/anish.ipynb\n",
      "Added frontmatter\n",
      "saved Submissions/A09/anish.ipynb\n",
      "Grading archive/assignment-09/vipul.ipynb\n",
      "Added frontmatter\n",
      "saved Submissions/A09/vipul.ipynb\n",
      "Grading archive/assignment-09/akshay.ipynb\n",
      "Added frontmatter\n",
      "saved Submissions/A09/akshay.ipynb\n",
      "Grading archive/assignment-09/shivmani.ipynb\n",
      "Added frontmatter\n",
      "saved Submissions/A09/shivmani.ipynb\n",
      "Grading archive/assignment-09/manik.ipynb\n",
      "Added frontmatter\n",
      "saved Submissions/A09/manik.ipynb\n",
      "Grading archive/assignment-09/bhuvan.ipynb\n",
      "Added frontmatter\n",
      "saved Submissions/A09/bhuvan.ipynb\n",
      "Grading archive/assignment-09/bindhushree.ipynb\n",
      "Added frontmatter\n",
      "saved Submissions/A09/bindhushree.ipynb\n",
      "Grading archive/assignment-09/adithya.ipynb\n",
      "Added frontmatter\n",
      "saved Submissions/A09/adithya.ipynb\n",
      "Grading archive/assignment-09/lokesh.ipynb\n",
      "Added frontmatter\n",
      "saved Submissions/A09/lokesh.ipynb\n",
      "Grading archive/assignment-09/sindhu.ipynb\n",
      "Added frontmatter\n",
      "saved Submissions/A09/sindhu.ipynb\n",
      "Grading archive/assignment-09/anushka.ipynb\n",
      "Added frontmatter\n",
      "saved Submissions/A09/anushka.ipynb\n",
      "Grading archive/assignment-09/aravindhan.ipynb\n",
      "Added frontmatter\n",
      "saved Submissions/A09/aravindhan.ipynb\n",
      "Grading archive/assignment-09/vinay.ipynb\n",
      "Added frontmatter\n",
      "saved Submissions/A09/vinay.ipynb\n"
     ]
    }
   ],
   "source": [
    "grade_assignments(9)"
   ]
  },
  {
   "cell_type": "markdown",
   "id": "74c43712-826f-4693-b624-ecc5f50b9e69",
   "metadata": {},
   "source": [
    "## Assignment 10"
   ]
  },
  {
   "cell_type": "code",
   "execution_count": 1,
   "id": "29eb751d-da55-48e0-baa4-ea03dbfdad63",
   "metadata": {
    "execution": {
     "iopub.execute_input": "2023-11-15T11:04:42.018409Z",
     "iopub.status.busy": "2023-11-15T11:04:42.018126Z",
     "iopub.status.idle": "2023-11-15T11:04:42.735400Z",
     "shell.execute_reply": "2023-11-15T11:04:42.734704Z",
     "shell.execute_reply.started": "2023-11-15T11:04:42.018385Z"
    }
   },
   "outputs": [
    {
     "name": "stdout",
     "output_type": "stream",
     "text": [
      "<Assignment#10 soumya>\n",
      "cp /home/jupyter-soumya/assignments/assignment-10.ipynb archive/assignment-10/soumya.ipynb\n",
      "<Assignment#10 akshay>\n",
      "cp /home/jupyter-akshay/assignments/assignment-10.ipynb archive/assignment-10/akshay.ipynb\n",
      "<Assignment#10 bhuvan>\n",
      "cp /home/jupyter-bhuvan/assignments/assignment-10.ipynb archive/assignment-10/bhuvan.ipynb\n",
      "<Assignment#10 bindhushree>\n",
      "cp /home/jupyter-bindhushree/assignments/assignment-10.ipynb archive/assignment-10/bindhushree.ipynb\n",
      "<Assignment#10 karan>\n",
      "cp /home/jupyter-karan/assignments/assignment-10.ipynb archive/assignment-10/karan.ipynb\n",
      "<Assignment#10 zoya>\n",
      "cp /home/jupyter-zoya/assignments/assignment-10.ipynb archive/assignment-10/zoya.ipynb\n",
      "<Assignment#10 sindhu>\n",
      "cp /home/jupyter-sindhu/assignments/assignment-10.ipynb archive/assignment-10/sindhu.ipynb\n",
      "<Assignment#10 vinay>\n",
      "cp /home/jupyter-vinay/assignments/assignment-10.ipynb archive/assignment-10/vinay.ipynb\n",
      "<Assignment#10 anushka>\n",
      "cp /home/jupyter-anushka/assignments/assignment-10.ipynb archive/assignment-10/anushka.ipynb\n",
      "<Assignment#10 manik>\n",
      "cp /home/jupyter-manik/assignments/assignment-10.ipynb archive/assignment-10/manik.ipynb\n",
      "<Assignment#10 anand>\n",
      "cp /home/jupyter-anand/assignments/assignment-10.ipynb archive/assignment-10/anand.ipynb\n",
      "<Assignment#10 annapurna>\n",
      "cp /home/jupyter-annapurna/assignments/assignment-10.ipynb archive/assignment-10/annapurna.ipynb\n",
      "<Assignment#10 abhishek>\n",
      "cp /home/jupyter-abhishek/assignments/assignment-10.ipynb archive/assignment-10/abhishek.ipynb\n",
      "<Assignment#10 vipul>\n",
      "cp /home/jupyter-vipul/assignments/assignment-10.ipynb archive/assignment-10/vipul.ipynb\n",
      "<Assignment#10 aravindhan>\n",
      "cp /home/jupyter-aravindhan/assignments/assignment-10.ipynb archive/assignment-10/aravindhan.ipynb\n",
      "<Assignment#10 lokesh>\n",
      "cp /home/jupyter-lokesh/assignments/assignment-10.ipynb archive/assignment-10/lokesh.ipynb\n",
      "<Assignment#10 saleem>\n",
      "cp /home/jupyter-saleem/assignments/assignment-10.ipynb archive/assignment-10/saleem.ipynb\n",
      "<Assignment#10 adithya>\n",
      "cp /home/jupyter-adithya/assignments/assignment-10.ipynb archive/assignment-10/adithya.ipynb\n",
      "<Assignment#10 shivmani>\n",
      "cp /home/jupyter-shivmani/assignments/assignment-10.ipynb archive/assignment-10/shivmani.ipynb\n",
      "<Assignment#10 anish>\n",
      "cp /home/jupyter-anish/assignments/assignment-10.ipynb archive/assignment-10/anish.ipynb\n"
     ]
    }
   ],
   "source": [
    "!python manage.py collect -a 10"
   ]
  },
  {
   "cell_type": "markdown",
   "id": "6a546285-d324-43de-9497-9ba624966efa",
   "metadata": {},
   "source": [
    "## Report Table"
   ]
  },
  {
   "cell_type": "code",
   "execution_count": 15,
   "id": "0b51d42d-3821-4069-8f45-1c52876fd231",
   "metadata": {
    "execution": {
     "iopub.execute_input": "2023-11-15T11:21:52.557742Z",
     "iopub.status.busy": "2023-11-15T11:21:52.557036Z",
     "iopub.status.idle": "2023-11-15T11:21:53.071274Z",
     "shell.execute_reply": "2023-11-15T11:21:53.070592Z",
     "shell.execute_reply.started": "2023-11-15T11:21:52.557718Z"
    }
   },
   "outputs": [],
   "source": [
    "from tabulate import tabulate\n",
    "import shelve\n",
    "import pandas as pd"
   ]
  },
  {
   "cell_type": "code",
   "execution_count": 6,
   "id": "202acf4b-9a9a-44af-a742-078231d2998b",
   "metadata": {
    "execution": {
     "iopub.execute_input": "2023-11-15T11:21:36.743667Z",
     "iopub.status.busy": "2023-11-15T11:21:36.742907Z",
     "iopub.status.idle": "2023-11-15T11:21:36.766314Z",
     "shell.execute_reply": "2023-11-15T11:21:36.765643Z",
     "shell.execute_reply.started": "2023-11-15T11:21:36.743633Z"
    }
   },
   "outputs": [],
   "source": [
    "with shelve.open(\"grades.db\")  as db:\n",
    "    data = list(db.values())"
   ]
  },
  {
   "cell_type": "code",
   "execution_count": 7,
   "id": "8e505f40-bcdd-4b1c-85c8-19701f4c6bd1",
   "metadata": {
    "execution": {
     "iopub.execute_input": "2023-11-15T11:21:37.781666Z",
     "iopub.status.busy": "2023-11-15T11:21:37.781068Z",
     "iopub.status.idle": "2023-11-15T11:21:37.785548Z",
     "shell.execute_reply": "2023-11-15T11:21:37.784820Z",
     "shell.execute_reply.started": "2023-11-15T11:21:37.781635Z"
    }
   },
   "outputs": [],
   "source": [
    "assignments = {submission['assignment'] for submission in data}"
   ]
  },
  {
   "cell_type": "code",
   "execution_count": 8,
   "id": "9824312d-3c96-455c-8b70-9242e4b444bc",
   "metadata": {
    "execution": {
     "iopub.execute_input": "2023-11-15T11:21:39.422569Z",
     "iopub.status.busy": "2023-11-15T11:21:39.422067Z",
     "iopub.status.idle": "2023-11-15T11:21:39.426953Z",
     "shell.execute_reply": "2023-11-15T11:21:39.426188Z",
     "shell.execute_reply.started": "2023-11-15T11:21:39.422546Z"
    }
   },
   "outputs": [],
   "source": [
    "assignment_numbers = sorted([int(a.replace(\"assignment-\", \"\")) for a in assignments])\n",
    "usernames = sorted({submission['username'] for submission in data})\n",
    "\n",
    "usernames.remove(\"anand\")"
   ]
  },
  {
   "cell_type": "code",
   "execution_count": 9,
   "id": "5e1a8fd3-1818-4862-a306-0e81a3457684",
   "metadata": {
    "execution": {
     "iopub.execute_input": "2023-11-15T11:21:40.091373Z",
     "iopub.status.busy": "2023-11-15T11:21:40.090476Z",
     "iopub.status.idle": "2023-11-15T11:21:40.097065Z",
     "shell.execute_reply": "2023-11-15T11:21:40.096133Z",
     "shell.execute_reply.started": "2023-11-15T11:21:40.091342Z"
    }
   },
   "outputs": [],
   "source": [
    "submissions = {}\n",
    "for sub in data:\n",
    "    assignment_num = int(sub['assignment'].replace(\"assignment-\", \"\"))\n",
    "    username = sub['username']\n",
    "    submissions.setdefault(username, {}).setdefault(assignment_num, sub)"
   ]
  },
  {
   "cell_type": "code",
   "execution_count": 10,
   "id": "b5a6b92e-8590-4f78-b231-ea5a8fe18823",
   "metadata": {
    "execution": {
     "iopub.execute_input": "2023-11-15T11:21:40.664711Z",
     "iopub.status.busy": "2023-11-15T11:21:40.664162Z",
     "iopub.status.idle": "2023-11-15T11:21:40.673492Z",
     "shell.execute_reply": "2023-11-15T11:21:40.672888Z",
     "shell.execute_reply.started": "2023-11-15T11:21:40.664677Z"
    }
   },
   "outputs": [
    {
     "data": {
      "text/plain": [
       "[1, 2, 3, 4, 5, 6, 7, 8, 9]"
      ]
     },
     "execution_count": 10,
     "metadata": {},
     "output_type": "execute_result"
    }
   ],
   "source": [
    "assignment_numbers"
   ]
  },
  {
   "cell_type": "code",
   "execution_count": 11,
   "id": "8c5d244f-fc3a-4ede-b90f-029321406c45",
   "metadata": {
    "execution": {
     "iopub.execute_input": "2023-11-15T11:21:41.546548Z",
     "iopub.status.busy": "2023-11-15T11:21:41.546063Z",
     "iopub.status.idle": "2023-11-15T11:21:41.550429Z",
     "shell.execute_reply": "2023-11-15T11:21:41.549606Z",
     "shell.execute_reply.started": "2023-11-15T11:21:41.546525Z"
    }
   },
   "outputs": [],
   "source": [
    "def get_row(username):\n",
    "    return [username] + [submissions[username].get(a, {}).get('score', 0) for a in assignment_numbers]"
   ]
  },
  {
   "cell_type": "code",
   "execution_count": 12,
   "id": "eef96123-b765-4988-a7ec-acb73fe77a15",
   "metadata": {
    "execution": {
     "iopub.execute_input": "2023-11-15T11:21:42.759558Z",
     "iopub.status.busy": "2023-11-15T11:21:42.759119Z",
     "iopub.status.idle": "2023-11-15T11:21:42.764054Z",
     "shell.execute_reply": "2023-11-15T11:21:42.763284Z",
     "shell.execute_reply.started": "2023-11-15T11:21:42.759535Z"
    }
   },
   "outputs": [
    {
     "data": {
      "text/plain": [
       "dict_keys(['abhishek', 'annapurna', 'saleem', 'soumya', 'zoya', 'anand', 'karan', 'anish', 'vipul', 'akshay', 'shivmani', 'manik', 'bhuvan', 'bindhushree', 'adithya', 'lokesh', 'sindhu', 'anushka', 'aravindhan', 'vinay'])"
      ]
     },
     "execution_count": 12,
     "metadata": {},
     "output_type": "execute_result"
    }
   ],
   "source": [
    "submissions.keys()"
   ]
  },
  {
   "cell_type": "code",
   "execution_count": 13,
   "id": "fadf8bf6-072d-4e72-a0a8-c6b7dbd9a4bc",
   "metadata": {
    "execution": {
     "iopub.execute_input": "2023-11-15T11:21:43.182186Z",
     "iopub.status.busy": "2023-11-15T11:21:43.181919Z",
     "iopub.status.idle": "2023-11-15T11:21:43.188410Z",
     "shell.execute_reply": "2023-11-15T11:21:43.187585Z",
     "shell.execute_reply.started": "2023-11-15T11:21:43.182163Z"
    }
   },
   "outputs": [
    {
     "data": {
      "text/plain": [
       "['abhishek',\n",
       " 'adithya',\n",
       " 'akshay',\n",
       " 'anish',\n",
       " 'annapurna',\n",
       " 'anushka',\n",
       " 'aravindhan',\n",
       " 'bhuvan',\n",
       " 'bindhushree',\n",
       " 'karan',\n",
       " 'lokesh',\n",
       " 'manik',\n",
       " 'saleem',\n",
       " 'shivmani',\n",
       " 'sindhu',\n",
       " 'soumya',\n",
       " 'vinay',\n",
       " 'vipul',\n",
       " 'zoya']"
      ]
     },
     "execution_count": 13,
     "metadata": {},
     "output_type": "execute_result"
    }
   ],
   "source": [
    "usernames"
   ]
  },
  {
   "cell_type": "code",
   "execution_count": 14,
   "id": "950829a7-3114-4888-9ce5-9744a4313b91",
   "metadata": {
    "execution": {
     "iopub.execute_input": "2023-11-15T11:21:43.912127Z",
     "iopub.status.busy": "2023-11-15T11:21:43.911871Z",
     "iopub.status.idle": "2023-11-15T11:21:43.934589Z",
     "shell.execute_reply": "2023-11-15T11:21:43.933501Z",
     "shell.execute_reply.started": "2023-11-15T11:21:43.912104Z"
    }
   },
   "outputs": [
    {
     "ename": "NameError",
     "evalue": "name 'pd' is not defined",
     "output_type": "error",
     "traceback": [
      "\u001b[0;31m---------------------------------------------------------------------------\u001b[0m",
      "\u001b[0;31mNameError\u001b[0m                                 Traceback (most recent call last)",
      "Cell \u001b[0;32mIn[14], line 3\u001b[0m\n\u001b[1;32m      1\u001b[0m report \u001b[38;5;241m=\u001b[39m [get_row(username) \u001b[38;5;28;01mfor\u001b[39;00m username \u001b[38;5;129;01min\u001b[39;00m usernames]\n\u001b[1;32m      2\u001b[0m names \u001b[38;5;241m=\u001b[39m [\u001b[38;5;124m'\u001b[39m\u001b[38;5;124mName\u001b[39m\u001b[38;5;124m'\u001b[39m] \u001b[38;5;241m+\u001b[39m [\u001b[38;5;124mf\u001b[39m\u001b[38;5;124m\"\u001b[39m\u001b[38;5;124mA\u001b[39m\u001b[38;5;132;01m{\u001b[39;00ma\u001b[38;5;132;01m:\u001b[39;00m\u001b[38;5;124m02d\u001b[39m\u001b[38;5;132;01m}\u001b[39;00m\u001b[38;5;124m\"\u001b[39m \u001b[38;5;28;01mfor\u001b[39;00m a \u001b[38;5;129;01min\u001b[39;00m assignment_numbers]\n\u001b[0;32m----> 3\u001b[0m df \u001b[38;5;241m=\u001b[39m \u001b[43mpd\u001b[49m\u001b[38;5;241m.\u001b[39mDataFrame(report, columns\u001b[38;5;241m=\u001b[39mnames)\n\u001b[1;32m      5\u001b[0m df\u001b[38;5;241m.\u001b[39mset_index(\u001b[38;5;124m\"\u001b[39m\u001b[38;5;124mName\u001b[39m\u001b[38;5;124m\"\u001b[39m, inplace\u001b[38;5;241m=\u001b[39m\u001b[38;5;28;01mTrue\u001b[39;00m)\n",
      "\u001b[0;31mNameError\u001b[0m: name 'pd' is not defined"
     ]
    }
   ],
   "source": [
    "report = [get_row(username) for username in usernames]\n",
    "names = ['Name'] + [f\"A{a:02d}\" for a in assignment_numbers]\n",
    "df = pd.DataFrame(report, columns=names)\n",
    "\n",
    "df.set_index(\"Name\", inplace=True)"
   ]
  },
  {
   "cell_type": "code",
   "execution_count": 67,
   "id": "ebac6223-409b-4020-b205-7a414bc9db19",
   "metadata": {
    "execution": {
     "iopub.execute_input": "2023-11-02T05:45:07.190474Z",
     "iopub.status.busy": "2023-11-02T05:45:07.189795Z",
     "iopub.status.idle": "2023-11-02T05:45:07.195150Z",
     "shell.execute_reply": "2023-11-02T05:45:07.194224Z",
     "shell.execute_reply.started": "2023-11-02T05:45:07.190439Z"
    }
   },
   "outputs": [],
   "source": [
    "df['Total'] = df.sum(axis=1)"
   ]
  },
  {
   "cell_type": "code",
   "execution_count": 68,
   "id": "28136d0e-f9c2-4946-97f9-ba2a568c361a",
   "metadata": {
    "execution": {
     "iopub.execute_input": "2023-11-02T05:45:07.622397Z",
     "iopub.status.busy": "2023-11-02T05:45:07.621563Z",
     "iopub.status.idle": "2023-11-02T05:45:07.629655Z",
     "shell.execute_reply": "2023-11-02T05:45:07.628749Z",
     "shell.execute_reply.started": "2023-11-02T05:45:07.622357Z"
    }
   },
   "outputs": [],
   "source": [
    "df.to_markdown('grading-report.qmd')"
   ]
  },
  {
   "cell_type": "code",
   "execution_count": 69,
   "id": "f7946b80-49ce-4ce6-84cc-467441e938cb",
   "metadata": {
    "execution": {
     "iopub.execute_input": "2023-11-02T05:45:08.224905Z",
     "iopub.status.busy": "2023-11-02T05:45:08.224623Z",
     "iopub.status.idle": "2023-11-02T05:45:08.237200Z",
     "shell.execute_reply": "2023-11-02T05:45:08.236289Z",
     "shell.execute_reply.started": "2023-11-02T05:45:08.224882Z"
    }
   },
   "outputs": [
    {
     "data": {
      "text/html": [
       "<div>\n",
       "<style scoped>\n",
       "    .dataframe tbody tr th:only-of-type {\n",
       "        vertical-align: middle;\n",
       "    }\n",
       "\n",
       "    .dataframe tbody tr th {\n",
       "        vertical-align: top;\n",
       "    }\n",
       "\n",
       "    .dataframe thead th {\n",
       "        text-align: right;\n",
       "    }\n",
       "</style>\n",
       "<table border=\"1\" class=\"dataframe\">\n",
       "  <thead>\n",
       "    <tr style=\"text-align: right;\">\n",
       "      <th></th>\n",
       "      <th>A01</th>\n",
       "      <th>A02</th>\n",
       "      <th>A03</th>\n",
       "      <th>A04</th>\n",
       "      <th>A05</th>\n",
       "      <th>A06</th>\n",
       "      <th>A07</th>\n",
       "      <th>A08</th>\n",
       "      <th>A09</th>\n",
       "      <th>Total</th>\n",
       "    </tr>\n",
       "    <tr>\n",
       "      <th>Name</th>\n",
       "      <th></th>\n",
       "      <th></th>\n",
       "      <th></th>\n",
       "      <th></th>\n",
       "      <th></th>\n",
       "      <th></th>\n",
       "      <th></th>\n",
       "      <th></th>\n",
       "      <th></th>\n",
       "      <th></th>\n",
       "    </tr>\n",
       "  </thead>\n",
       "  <tbody>\n",
       "    <tr>\n",
       "      <th>abhishek</th>\n",
       "      <td>5</td>\n",
       "      <td>10</td>\n",
       "      <td>0</td>\n",
       "      <td>4</td>\n",
       "      <td>0</td>\n",
       "      <td>0</td>\n",
       "      <td>0</td>\n",
       "      <td>0</td>\n",
       "      <td>1</td>\n",
       "      <td>20</td>\n",
       "    </tr>\n",
       "    <tr>\n",
       "      <th>adithya</th>\n",
       "      <td>5</td>\n",
       "      <td>8</td>\n",
       "      <td>5</td>\n",
       "      <td>4</td>\n",
       "      <td>5</td>\n",
       "      <td>5</td>\n",
       "      <td>2</td>\n",
       "      <td>3</td>\n",
       "      <td>3</td>\n",
       "      <td>40</td>\n",
       "    </tr>\n",
       "    <tr>\n",
       "      <th>akshay</th>\n",
       "      <td>5</td>\n",
       "      <td>10</td>\n",
       "      <td>5</td>\n",
       "      <td>4</td>\n",
       "      <td>4</td>\n",
       "      <td>4</td>\n",
       "      <td>3</td>\n",
       "      <td>2</td>\n",
       "      <td>2</td>\n",
       "      <td>39</td>\n",
       "    </tr>\n",
       "    <tr>\n",
       "      <th>anish</th>\n",
       "      <td>5</td>\n",
       "      <td>10</td>\n",
       "      <td>5</td>\n",
       "      <td>5</td>\n",
       "      <td>5</td>\n",
       "      <td>4</td>\n",
       "      <td>0</td>\n",
       "      <td>3</td>\n",
       "      <td>1</td>\n",
       "      <td>38</td>\n",
       "    </tr>\n",
       "    <tr>\n",
       "      <th>annapurna</th>\n",
       "      <td>5</td>\n",
       "      <td>10</td>\n",
       "      <td>5</td>\n",
       "      <td>5</td>\n",
       "      <td>2</td>\n",
       "      <td>0</td>\n",
       "      <td>0</td>\n",
       "      <td>0</td>\n",
       "      <td>1</td>\n",
       "      <td>28</td>\n",
       "    </tr>\n",
       "    <tr>\n",
       "      <th>anushka</th>\n",
       "      <td>4</td>\n",
       "      <td>3</td>\n",
       "      <td>0</td>\n",
       "      <td>0</td>\n",
       "      <td>0</td>\n",
       "      <td>0</td>\n",
       "      <td>0</td>\n",
       "      <td>0</td>\n",
       "      <td>1</td>\n",
       "      <td>8</td>\n",
       "    </tr>\n",
       "    <tr>\n",
       "      <th>aravindhan</th>\n",
       "      <td>5</td>\n",
       "      <td>9</td>\n",
       "      <td>5</td>\n",
       "      <td>5</td>\n",
       "      <td>3</td>\n",
       "      <td>4</td>\n",
       "      <td>4</td>\n",
       "      <td>3</td>\n",
       "      <td>2</td>\n",
       "      <td>40</td>\n",
       "    </tr>\n",
       "    <tr>\n",
       "      <th>bhuvan</th>\n",
       "      <td>5</td>\n",
       "      <td>9</td>\n",
       "      <td>5</td>\n",
       "      <td>5</td>\n",
       "      <td>5</td>\n",
       "      <td>5</td>\n",
       "      <td>2</td>\n",
       "      <td>3</td>\n",
       "      <td>1</td>\n",
       "      <td>40</td>\n",
       "    </tr>\n",
       "    <tr>\n",
       "      <th>bindhushree</th>\n",
       "      <td>5</td>\n",
       "      <td>9</td>\n",
       "      <td>5</td>\n",
       "      <td>4</td>\n",
       "      <td>5</td>\n",
       "      <td>5</td>\n",
       "      <td>4</td>\n",
       "      <td>3</td>\n",
       "      <td>3</td>\n",
       "      <td>43</td>\n",
       "    </tr>\n",
       "    <tr>\n",
       "      <th>karan</th>\n",
       "      <td>5</td>\n",
       "      <td>10</td>\n",
       "      <td>5</td>\n",
       "      <td>4</td>\n",
       "      <td>5</td>\n",
       "      <td>4</td>\n",
       "      <td>3</td>\n",
       "      <td>4</td>\n",
       "      <td>4</td>\n",
       "      <td>44</td>\n",
       "    </tr>\n",
       "    <tr>\n",
       "      <th>lokesh</th>\n",
       "      <td>4</td>\n",
       "      <td>5</td>\n",
       "      <td>0</td>\n",
       "      <td>0</td>\n",
       "      <td>0</td>\n",
       "      <td>5</td>\n",
       "      <td>5</td>\n",
       "      <td>4</td>\n",
       "      <td>3</td>\n",
       "      <td>26</td>\n",
       "    </tr>\n",
       "    <tr>\n",
       "      <th>manik</th>\n",
       "      <td>5</td>\n",
       "      <td>10</td>\n",
       "      <td>5</td>\n",
       "      <td>5</td>\n",
       "      <td>5</td>\n",
       "      <td>5</td>\n",
       "      <td>3</td>\n",
       "      <td>4</td>\n",
       "      <td>4</td>\n",
       "      <td>46</td>\n",
       "    </tr>\n",
       "    <tr>\n",
       "      <th>saleem</th>\n",
       "      <td>5</td>\n",
       "      <td>10</td>\n",
       "      <td>5</td>\n",
       "      <td>5</td>\n",
       "      <td>5</td>\n",
       "      <td>5</td>\n",
       "      <td>5</td>\n",
       "      <td>3</td>\n",
       "      <td>2</td>\n",
       "      <td>45</td>\n",
       "    </tr>\n",
       "    <tr>\n",
       "      <th>shivmani</th>\n",
       "      <td>5</td>\n",
       "      <td>5</td>\n",
       "      <td>3</td>\n",
       "      <td>1</td>\n",
       "      <td>4</td>\n",
       "      <td>4</td>\n",
       "      <td>2</td>\n",
       "      <td>0</td>\n",
       "      <td>2</td>\n",
       "      <td>26</td>\n",
       "    </tr>\n",
       "    <tr>\n",
       "      <th>sindhu</th>\n",
       "      <td>5</td>\n",
       "      <td>6</td>\n",
       "      <td>5</td>\n",
       "      <td>4</td>\n",
       "      <td>5</td>\n",
       "      <td>5</td>\n",
       "      <td>3</td>\n",
       "      <td>3</td>\n",
       "      <td>3</td>\n",
       "      <td>39</td>\n",
       "    </tr>\n",
       "    <tr>\n",
       "      <th>soumya</th>\n",
       "      <td>5</td>\n",
       "      <td>2</td>\n",
       "      <td>3</td>\n",
       "      <td>5</td>\n",
       "      <td>4</td>\n",
       "      <td>5</td>\n",
       "      <td>4</td>\n",
       "      <td>2</td>\n",
       "      <td>1</td>\n",
       "      <td>31</td>\n",
       "    </tr>\n",
       "    <tr>\n",
       "      <th>vinay</th>\n",
       "      <td>5</td>\n",
       "      <td>8</td>\n",
       "      <td>5</td>\n",
       "      <td>5</td>\n",
       "      <td>2</td>\n",
       "      <td>3</td>\n",
       "      <td>3</td>\n",
       "      <td>4</td>\n",
       "      <td>4</td>\n",
       "      <td>39</td>\n",
       "    </tr>\n",
       "    <tr>\n",
       "      <th>vipul</th>\n",
       "      <td>5</td>\n",
       "      <td>10</td>\n",
       "      <td>5</td>\n",
       "      <td>4</td>\n",
       "      <td>5</td>\n",
       "      <td>4</td>\n",
       "      <td>4</td>\n",
       "      <td>4</td>\n",
       "      <td>3</td>\n",
       "      <td>44</td>\n",
       "    </tr>\n",
       "    <tr>\n",
       "      <th>zoya</th>\n",
       "      <td>5</td>\n",
       "      <td>9</td>\n",
       "      <td>4</td>\n",
       "      <td>5</td>\n",
       "      <td>4</td>\n",
       "      <td>5</td>\n",
       "      <td>3</td>\n",
       "      <td>3</td>\n",
       "      <td>1</td>\n",
       "      <td>39</td>\n",
       "    </tr>\n",
       "  </tbody>\n",
       "</table>\n",
       "</div>"
      ],
      "text/plain": [
       "             A01  A02  A03  A04  A05  A06  A07  A08  A09  Total\n",
       "Name                                                           \n",
       "abhishek       5   10    0    4    0    0    0    0    1     20\n",
       "adithya        5    8    5    4    5    5    2    3    3     40\n",
       "akshay         5   10    5    4    4    4    3    2    2     39\n",
       "anish          5   10    5    5    5    4    0    3    1     38\n",
       "annapurna      5   10    5    5    2    0    0    0    1     28\n",
       "anushka        4    3    0    0    0    0    0    0    1      8\n",
       "aravindhan     5    9    5    5    3    4    4    3    2     40\n",
       "bhuvan         5    9    5    5    5    5    2    3    1     40\n",
       "bindhushree    5    9    5    4    5    5    4    3    3     43\n",
       "karan          5   10    5    4    5    4    3    4    4     44\n",
       "lokesh         4    5    0    0    0    5    5    4    3     26\n",
       "manik          5   10    5    5    5    5    3    4    4     46\n",
       "saleem         5   10    5    5    5    5    5    3    2     45\n",
       "shivmani       5    5    3    1    4    4    2    0    2     26\n",
       "sindhu         5    6    5    4    5    5    3    3    3     39\n",
       "soumya         5    2    3    5    4    5    4    2    1     31\n",
       "vinay          5    8    5    5    2    3    3    4    4     39\n",
       "vipul          5   10    5    4    5    4    4    4    3     44\n",
       "zoya           5    9    4    5    4    5    3    3    1     39"
      ]
     },
     "execution_count": 69,
     "metadata": {},
     "output_type": "execute_result"
    }
   ],
   "source": [
    "df"
   ]
  },
  {
   "cell_type": "markdown",
   "id": "710763d7-c128-467b-8ff0-65aaa3382975",
   "metadata": {},
   "source": [
    "## Assignment 01"
   ]
  },
  {
   "cell_type": "code",
   "execution_count": 43,
   "id": "9c8c1498-8f33-4cac-b7b5-1c7a50da5e9a",
   "metadata": {
    "execution": {
     "iopub.execute_input": "2023-10-03T06:13:31.765856Z",
     "iopub.status.busy": "2023-10-03T06:13:31.765525Z",
     "iopub.status.idle": "2023-10-03T06:14:32.741584Z",
     "shell.execute_reply": "2023-10-03T06:14:32.740846Z",
     "shell.execute_reply.started": "2023-10-03T06:13:31.765828Z"
    }
   },
   "outputs": [
    {
     "name": "stdout",
     "output_type": "stream",
     "text": [
      "Grading archive/assignment-01/annapurna.ipynb\n",
      "Grading archive/assignment-01/saleem.ipynb\n",
      "Grading archive/assignment-01/soumya.ipynb\n",
      "Grading archive/assignment-01/zoya.ipynb\n",
      "Grading archive/assignment-01/anand.ipynb\n",
      "Grading archive/assignment-01/abhishek.ipynb\n",
      "Grading archive/assignment-01/karan.ipynb\n",
      "Grading archive/assignment-01/anish.ipynb\n",
      "Grading archive/assignment-01/vipul.ipynb\n",
      "Grading archive/assignment-01/akshay.ipynb\n",
      "Grading archive/assignment-01/shivmani.ipynb\n",
      "Grading archive/assignment-01/manik.ipynb\n",
      "Grading archive/assignment-01/bhuvan.ipynb\n",
      "Grading archive/assignment-01/bindhushree.ipynb\n",
      "Grading archive/assignment-01/adithya.ipynb\n",
      "Grading archive/assignment-01/lokesh.ipynb\n",
      "Grading archive/assignment-01/sindhu.ipynb\n",
      "Grading archive/assignment-01/anushka.ipynb\n",
      "Grading archive/assignment-01/aravindhan.ipynb\n",
      "Grading archive/assignment-01/vinay.ipynb\n"
     ]
    }
   ],
   "source": [
    "paths = Path(\"archive/assignment-01\").glob(\"*.ipynb\")\n",
    "\n",
    "for p in paths:\n",
    "    grade(p)"
   ]
  },
  {
   "cell_type": "code",
   "execution_count": 41,
   "id": "a2aa3b76-3cde-463f-8de0-cf632975de22",
   "metadata": {
    "execution": {
     "iopub.execute_input": "2023-10-03T06:02:05.090838Z",
     "iopub.status.busy": "2023-10-03T06:02:05.090497Z",
     "iopub.status.idle": "2023-10-03T06:02:05.099536Z",
     "shell.execute_reply": "2023-10-03T06:02:05.098753Z",
     "shell.execute_reply.started": "2023-10-03T06:02:05.090807Z"
    }
   },
   "outputs": [
    {
     "name": "stdout",
     "output_type": "stream",
     "text": [
      "assignment-01 abhishek 5 5\n",
      "assignment-01 annapurna 2 5\n",
      "assignment-01 saleem 5 5\n",
      "assignment-01 soumya 5 5\n",
      "assignment-01 zoya 5 5\n",
      "assignment-01 anand 0 5\n",
      "assignment-01 karan 5 5\n",
      "assignment-01 anish 5 5\n",
      "assignment-01 vipul 5 5\n",
      "assignment-01 akshay 5 5\n",
      "assignment-01 shivmani 5 5\n",
      "assignment-01 manik 5 5\n",
      "assignment-01 bhuvan 5 5\n",
      "assignment-01 bindhushree 5 5\n",
      "assignment-01 adithya 5 5\n",
      "assignment-01 lokesh 4 5\n",
      "assignment-01 sindhu 5 5\n",
      "assignment-01 anushka 4 6\n",
      "assignment-01 aravindhan 5 5\n",
      "assignment-01 vinay 5 5\n"
     ]
    }
   ],
   "source": [
    "with shelve.open(\"grades.db\")  as db:\n",
    "    for x in db.values():\n",
    "        print(x['assignment'], x['username'], x['score'], x['max_score'])"
   ]
  },
  {
   "cell_type": "code",
   "execution_count": 48,
   "id": "21b542b0-f607-45a0-8253-767c3e53269a",
   "metadata": {
    "execution": {
     "iopub.execute_input": "2023-10-03T06:27:48.059829Z",
     "iopub.status.busy": "2023-10-03T06:27:48.059476Z",
     "iopub.status.idle": "2023-10-03T06:27:48.066591Z",
     "shell.execute_reply": "2023-10-03T06:27:48.065346Z",
     "shell.execute_reply.started": "2023-10-03T06:27:48.059798Z"
    }
   },
   "outputs": [
    {
     "name": "stdout",
     "output_type": "stream",
     "text": [
      "{'username': 'abhishek', 'assignment': 'assignment-01', 'score': 5, 'max_score': 5, 'results': [{'problem': 'mean', 'status': 'pass', 'log': ['✓ mean([1, 2, 3, 4, 5])', '✓ mean([5])', '🎉 Congratulations! You have successfully solved problem mean!!']}, {'problem': 'product', 'status': 'pass', 'log': ['✓ product([1, 2, 3, 4])', '✓ product([10, 2, 50])', '✓ product([])', '🎉 Congratulations! You have successfully solved problem product!!']}, {'problem': 'digit-count', 'status': 'pass', 'log': ['✓ digit_count(1231, 1)', '✓ digit_count(1231, 3)', '✓ digit_count(1231, 9)', '✓ digit_count(2**1000, 0)', '🎉 Congratulations! You have successfully solved problem digit-count!!']}, {'problem': 'print-header', 'status': 'pass', 'log': ['✓ python header.py python', '✓ python header.py Python-Foundation-Course', '🎉 Congratulations! You have successfully solved problem print-header!!']}, {'problem': 'text-in-a-box', 'status': 'pass', 'log': ['✓ python box.py python', '✓ python box.py Joy', '✓ python box.py \"Joy of Programming\"', '🎉 Congratulations! You have successfully solved problem text-in-a-box!!']}]}\n"
     ]
    }
   ],
   "source": [
    "with shelve.open(\"grades.db\")  as db:\n",
    "    print(db['assignment-01/abhishek'])"
   ]
  },
  {
   "cell_type": "code",
   "execution_count": 2,
   "id": "a1d2928d-c331-4d3a-b786-f043cc50a2d8",
   "metadata": {
    "execution": {
     "iopub.execute_input": "2023-10-03T05:36:45.169780Z",
     "iopub.status.busy": "2023-10-03T05:36:45.169031Z",
     "iopub.status.idle": "2023-10-03T05:36:45.230215Z",
     "shell.execute_reply": "2023-10-03T05:36:45.229374Z",
     "shell.execute_reply.started": "2023-10-03T05:36:45.169748Z"
    }
   },
   "outputs": [],
   "source": [
    "\n",
    "path = \"archive/assignment-01/abhishek.ipynb\"\n",
    "nb = nbformat.read(open(path), as_version=4)\n",
    "\n",
    "nb['cells'].insert(0, precode)\n",
    "nb['cells'].append(nbformat.v4.new_code_cell(code))"
   ]
  },
  {
   "cell_type": "code",
   "execution_count": 3,
   "id": "5a9e6cd1-b296-4ef1-b335-d090b9a7afe3",
   "metadata": {
    "execution": {
     "iopub.execute_input": "2023-10-03T05:36:45.231703Z",
     "iopub.status.busy": "2023-10-03T05:36:45.231426Z",
     "iopub.status.idle": "2023-10-03T05:36:45.240893Z",
     "shell.execute_reply": "2023-10-03T05:36:45.239937Z",
     "shell.execute_reply.started": "2023-10-03T05:36:45.231675Z"
    }
   },
   "outputs": [
    {
     "data": {
      "text/plain": [
       "{'cell_type': 'code',\n",
       " 'execution_count': None,\n",
       " 'id': '314ce6bb-7c99-4718-b341-5ce7974dcd2f',\n",
       " 'metadata': {},\n",
       " 'outputs': [],\n",
       " 'source': ''}"
      ]
     },
     "execution_count": 3,
     "metadata": {},
     "output_type": "execute_result"
    }
   ],
   "source": [
    "nb['cells'][-1]"
   ]
  },
  {
   "cell_type": "code",
   "execution_count": 4,
   "id": "bfd403ec-cc39-43fa-b808-b2bec994a770",
   "metadata": {
    "execution": {
     "iopub.execute_input": "2023-10-03T05:36:45.242541Z",
     "iopub.status.busy": "2023-10-03T05:36:45.242233Z",
     "iopub.status.idle": "2023-10-03T05:36:45.246784Z",
     "shell.execute_reply": "2023-10-03T05:36:45.245710Z",
     "shell.execute_reply.started": "2023-10-03T05:36:45.242511Z"
    }
   },
   "outputs": [],
   "source": [
    "code = \"print(VERIFY_PROBLEM_GRADES)\""
   ]
  },
  {
   "cell_type": "code",
   "execution_count": 5,
   "id": "a63421e3-0d94-4215-9cd7-a4ff66dcc733",
   "metadata": {
    "execution": {
     "iopub.execute_input": "2023-10-03T05:36:45.248733Z",
     "iopub.status.busy": "2023-10-03T05:36:45.248107Z",
     "iopub.status.idle": "2023-10-03T05:36:45.253564Z",
     "shell.execute_reply": "2023-10-03T05:36:45.252622Z",
     "shell.execute_reply.started": "2023-10-03T05:36:45.248684Z"
    }
   },
   "outputs": [],
   "source": [
    "nb['cells'].append(nbformat.v4.new_code_cell(code))"
   ]
  },
  {
   "cell_type": "code",
   "execution_count": 6,
   "id": "63d4c357-912d-4867-a9d4-3cd5a96ae775",
   "metadata": {
    "execution": {
     "iopub.execute_input": "2023-10-03T05:36:45.255196Z",
     "iopub.status.busy": "2023-10-03T05:36:45.254517Z",
     "iopub.status.idle": "2023-10-03T05:36:45.259378Z",
     "shell.execute_reply": "2023-10-03T05:36:45.258512Z",
     "shell.execute_reply.started": "2023-10-03T05:36:45.255168Z"
    }
   },
   "outputs": [],
   "source": [
    "p = ExecutePreprocessor(timeout=600, kernel_name='python3', allow_errors=True)"
   ]
  },
  {
   "cell_type": "code",
   "execution_count": 7,
   "id": "97e6416b-ac33-4281-8e71-c1a6ab6a0cde",
   "metadata": {
    "execution": {
     "iopub.execute_input": "2023-10-03T05:36:45.262191Z",
     "iopub.status.busy": "2023-10-03T05:36:45.261559Z",
     "iopub.status.idle": "2023-10-03T05:36:47.429323Z",
     "shell.execute_reply": "2023-10-03T05:36:47.428459Z",
     "shell.execute_reply.started": "2023-10-03T05:36:45.262162Z"
    }
   },
   "outputs": [],
   "source": [
    "nb2 = p.preprocess(nb, {'metadata': {'path': 'tmp/'}})"
   ]
  },
  {
   "cell_type": "code",
   "execution_count": 8,
   "id": "25993107-2456-429f-a10d-d020bc8f0440",
   "metadata": {
    "execution": {
     "iopub.execute_input": "2023-10-03T05:36:47.434574Z",
     "iopub.status.busy": "2023-10-03T05:36:47.434294Z",
     "iopub.status.idle": "2023-10-03T05:36:47.449363Z",
     "shell.execute_reply": "2023-10-03T05:36:47.448349Z",
     "shell.execute_reply.started": "2023-10-03T05:36:47.434546Z"
    }
   },
   "outputs": [],
   "source": [
    "with open(\"a.ipynb\", \"w\") as f:\n",
    "    nbformat.write(nb2[0], f)"
   ]
  },
  {
   "cell_type": "code",
   "execution_count": 8,
   "id": "ea4e8452-b4a2-434d-8a25-469166524fba",
   "metadata": {
    "execution": {
     "iopub.execute_input": "2023-10-03T05:29:02.311362Z",
     "iopub.status.busy": "2023-10-03T05:29:02.311081Z",
     "iopub.status.idle": "2023-10-03T05:29:02.316402Z",
     "shell.execute_reply": "2023-10-03T05:29:02.314935Z",
     "shell.execute_reply.started": "2023-10-03T05:29:02.311334Z"
    }
   },
   "outputs": [],
   "source": [
    "# nb2"
   ]
  },
  {
   "cell_type": "code",
   "execution_count": 17,
   "id": "df4b6f24-8f7c-4bc8-b150-17a702083795",
   "metadata": {
    "execution": {
     "iopub.execute_input": "2023-10-09T13:11:53.952837Z",
     "iopub.status.busy": "2023-10-09T13:11:53.952431Z",
     "iopub.status.idle": "2023-10-09T13:11:53.959457Z",
     "shell.execute_reply": "2023-10-09T13:11:53.958677Z",
     "shell.execute_reply.started": "2023-10-09T13:11:53.952812Z"
    }
   },
   "outputs": [],
   "source": [
    "# nb2[0]['cells']"
   ]
  },
  {
   "cell_type": "code",
   "execution_count": null,
   "id": "07652b50-b5ad-47f5-92c1-8e835bd6916b",
   "metadata": {},
   "outputs": [],
   "source": []
  },
  {
   "cell_type": "code",
   "execution_count": 7,
   "id": "1a8f43cf-90f5-4c10-86e2-95c201334822",
   "metadata": {
    "execution": {
     "iopub.execute_input": "2023-10-03T05:19:38.817320Z",
     "iopub.status.busy": "2023-10-03T05:19:38.816969Z",
     "iopub.status.idle": "2023-10-03T05:19:38.821516Z",
     "shell.execute_reply": "2023-10-03T05:19:38.820279Z",
     "shell.execute_reply.started": "2023-10-03T05:19:38.817293Z"
    }
   },
   "outputs": [],
   "source": [
    "import os"
   ]
  },
  {
   "cell_type": "code",
   "execution_count": 14,
   "id": "f25b2871-c83b-496f-94ac-5f9459132cfe",
   "metadata": {
    "execution": {
     "iopub.execute_input": "2023-10-03T05:20:23.259617Z",
     "iopub.status.busy": "2023-10-03T05:20:23.259088Z",
     "iopub.status.idle": "2023-10-03T05:20:23.263446Z",
     "shell.execute_reply": "2023-10-03T05:20:23.262729Z",
     "shell.execute_reply.started": "2023-10-03T05:20:23.259589Z"
    }
   },
   "outputs": [],
   "source": [
    "os.getenv(\"VERIFY_PROBLEM_MODE\")"
   ]
  },
  {
   "cell_type": "code",
   "execution_count": 12,
   "id": "a356bef6-558e-413a-a456-ba67077b503b",
   "metadata": {
    "execution": {
     "iopub.execute_input": "2023-10-03T05:20:19.874642Z",
     "iopub.status.busy": "2023-10-03T05:20:19.874187Z",
     "iopub.status.idle": "2023-10-03T05:20:19.879311Z",
     "shell.execute_reply": "2023-10-03T05:20:19.878148Z",
     "shell.execute_reply.started": "2023-10-03T05:20:19.874603Z"
    }
   },
   "outputs": [],
   "source": [
    "os.environ.get(\"VERIFY_PROBLEM_MODE\")"
   ]
  },
  {
   "cell_type": "code",
   "execution_count": 11,
   "id": "2d777c84-4410-4f71-b1d6-6b067bd4868f",
   "metadata": {
    "execution": {
     "iopub.execute_input": "2023-10-03T05:20:17.683967Z",
     "iopub.status.busy": "2023-10-03T05:20:17.683552Z",
     "iopub.status.idle": "2023-10-03T05:20:17.688825Z",
     "shell.execute_reply": "2023-10-03T05:20:17.687575Z",
     "shell.execute_reply.started": "2023-10-03T05:20:17.683939Z"
    }
   },
   "outputs": [],
   "source": [
    "os.putenv(\"VERIFY_PROBLEM_MODE\", \"grading\")"
   ]
  },
  {
   "cell_type": "code",
   "execution_count": 15,
   "id": "cf6f3ff2-c28c-4444-9ca1-cc0e643c67ae",
   "metadata": {
    "execution": {
     "iopub.execute_input": "2023-10-03T05:21:29.557241Z",
     "iopub.status.busy": "2023-10-03T05:21:29.556875Z",
     "iopub.status.idle": "2023-10-03T05:21:29.687491Z",
     "shell.execute_reply": "2023-10-03T05:21:29.686681Z",
     "shell.execute_reply.started": "2023-10-03T05:21:29.557214Z"
    }
   },
   "outputs": [],
   "source": [
    "!python -c \"import os; os.getenv('VERIFY_PROBLEM_MODE')\""
   ]
  },
  {
   "cell_type": "markdown",
   "id": "f41717a3-2cea-4fb7-a6b7-8175845f7a35",
   "metadata": {},
   "source": [
    "## Sigma"
   ]
  },
  {
   "cell_type": "code",
   "execution_count": 5,
   "id": "22cc1bae-c156-4341-8a27-43fd6adb4546",
   "metadata": {},
   "outputs": [],
   "source": [
    "import sigma"
   ]
  },
  {
   "cell_type": "code",
   "execution_count": 6,
   "id": "aab2f5ac-fa6a-44d3-b799-d0f31fb3ab34",
   "metadata": {},
   "outputs": [
    {
     "data": {
      "text/plain": [
       "'/home/jupyter-vikrant/arcesium-python-2024/sigma/__init__.py'"
      ]
     },
     "execution_count": 6,
     "metadata": {},
     "output_type": "execute_result"
    }
   ],
   "source": [
    "sigma.__file__"
   ]
  },
  {
   "cell_type": "code",
   "execution_count": 7,
   "id": "3f0b5a78-e53f-4aec-9b2b-c0d116b12814",
   "metadata": {},
   "outputs": [],
   "source": [
    "from sigma import Problem, config\n",
    "import nbformat as nbf\n",
    "import yaml"
   ]
  },
  {
   "cell_type": "code",
   "execution_count": 8,
   "id": "c2b199e6-89b8-4154-bafe-b81990993446",
   "metadata": {},
   "outputs": [],
   "source": [
    "config.PROBLEM_REPOSITORY_PATH = \"/opt/training/problems\""
   ]
  },
  {
   "cell_type": "code",
   "execution_count": 9,
   "id": "b75eb350-6614-4991-85e0-d19ac68c0a8c",
   "metadata": {},
   "outputs": [],
   "source": [
    "nb = nbf.v4.new_notebook()"
   ]
  },
  {
   "cell_type": "code",
   "execution_count": 10,
   "id": "23e77a46-d7a9-492f-b305-b053ebe57910",
   "metadata": {},
   "outputs": [
    {
     "data": {
      "text/plain": [
       "{'nbformat': 4, 'nbformat_minor': 5, 'metadata': {}, 'cells': []}"
      ]
     },
     "execution_count": 10,
     "metadata": {},
     "output_type": "execute_result"
    }
   ],
   "source": [
    "nb"
   ]
  },
  {
   "cell_type": "code",
   "execution_count": 11,
   "id": "1ebb4420-8b70-4026-8323-aadd9260419d",
   "metadata": {},
   "outputs": [],
   "source": [
    "def add_markdown_cell(text):\n",
    "    cell = nbf.v4.new_markdown_cell(text)\n",
    "    nb['cells'].append(cell)\n",
    "\n",
    "def add_code_cell(code):\n",
    "    cell = nbf.v4.new_code_cell(code)\n",
    "    nb['cells'].append(cell)\n",
    "    \n",
    "def add_title(title):\n",
    "    add_markdown_cell(f\"# {title}\")\n",
    "    \n",
    "def add_problem(index, p):\n",
    "    add_markdown_cell(f\"## Problem {index}: {p.title}\")\n",
    "\n",
    "    add_markdown_cell(\n",
    "        p.get_description() \n",
    "        + \"\\n\\n\"\n",
    "        + \"You can verify your solution using:<br>\\n\"\n",
    "        + f\"`%verify_problem {p.name}`\")\n",
    "\n",
    "    if p.problem_type == \"script\":\n",
    "        add_code_cell(f\"%%file {p.script_name}\\n# your code here\")\n",
    "    else:\n",
    "        code = p.get_initial_code() or \"# your code here\\n\\n\\n\\n\"\n",
    "        add_code_cell(code)\n",
    "    \n",
    "    add_code_cell(\"\")\n",
    "    add_code_cell(\"\")\n",
    "    add_code_cell(f\"%verify_problem {p.name}\")\n",
    "\n",
    "def create_notebook(title, problems):\n",
    "    global nb\n",
    "    nb = nbf.v4.new_notebook()\n",
    "    add_title(title)\n",
    "    for i, p in enumerate(problems, start=1):\n",
    "        add_problem(i, p)"
   ]
  },
  {
   "cell_type": "code",
   "execution_count": 12,
   "id": "7732955d-27bc-4128-80d3-97fe2b5142ed",
   "metadata": {},
   "outputs": [],
   "source": [
    "assignments = {a['id']: a for a in yaml.safe_load(open(\"assignments.yml\"))}"
   ]
  },
  {
   "cell_type": "code",
   "execution_count": 13,
   "id": "95f6cb56-b000-40b8-851f-c78177da3650",
   "metadata": {},
   "outputs": [],
   "source": [
    "def get_problems(assignment: int):\n",
    "    names = assignments[assignment]['problems']\n",
    "    print(\"get_problems\", assignment, names)\n",
    "    def find(name):\n",
    "        print(\"find\", name)\n",
    "        return Problem.find(name)\n",
    "    return [find(name) for name in names]"
   ]
  },
  {
   "cell_type": "code",
   "execution_count": 14,
   "id": "42b8a7e7-47c2-44d2-9d0a-75159f89d388",
   "metadata": {},
   "outputs": [
    {
     "name": "stdout",
     "output_type": "stream",
     "text": [
      "get_problems 3 ['combined-daily-time-series', 'dict-client', 'frankfurter']\n",
      "find combined-daily-time-series\n",
      "find dict-client\n",
      "find frankfurter\n"
     ]
    }
   ],
   "source": [
    "problems = get_problems(3)"
   ]
  },
  {
   "cell_type": "code",
   "execution_count": 15,
   "id": "1a8eaf2a-e615-475a-bbe2-456116b2dcb7",
   "metadata": {},
   "outputs": [],
   "source": [
    "create_notebook(\"Assignment 3\", problems)\n",
    "nbf.write(nb, \"assignment-03.ipynb\")"
   ]
  },
  {
   "cell_type": "code",
   "execution_count": null,
   "id": "5c5e59da-7dca-4477-b853-4bd6488876c8",
   "metadata": {},
   "outputs": [],
   "source": []
  },
  {
   "cell_type": "code",
   "execution_count": null,
   "id": "f8da05d5-4941-45f3-9db4-1d13de78d669",
   "metadata": {},
   "outputs": [],
   "source": []
  },
  {
   "cell_type": "markdown",
   "id": "2acd50b7-0d51-4d6c-9f64-6756e466a4a5",
   "metadata": {},
   "source": [
    "## Assignment Solutions"
   ]
  },
  {
   "cell_type": "code",
   "execution_count": 22,
   "id": "38039b08-c074-414a-9fcf-ce231dd5262b",
   "metadata": {
    "execution": {
     "iopub.execute_input": "2023-11-02T02:54:17.558968Z",
     "iopub.status.busy": "2023-11-02T02:54:17.558702Z",
     "iopub.status.idle": "2023-11-02T02:54:17.562516Z",
     "shell.execute_reply": "2023-11-02T02:54:17.561721Z",
     "shell.execute_reply.started": "2023-11-02T02:54:17.558946Z"
    }
   },
   "outputs": [],
   "source": [
    "TEMPLATE = \"\"\"\n",
    "# {{title}}\n",
    "\n",
    "Solutions to {{title}}.\n",
    "\n",
    "{% for problem in problems %}\n",
    "## {{ problem.title }}\n",
    "\n",
    "{{problem.get_description()}}\n",
    "\n",
    "### Solution {.unnumbered}\n",
    "\n",
    "```python\n",
    "{{ get_solution(problem) }}\n",
    "```\n",
    "\n",
    "{% set discussion = get_discussion(problem) %}\n",
    "\n",
    "{% if discussion %}\n",
    "### Discussion {.unnumbered }\n",
    "\n",
    "{{ discussion }}\n",
    "\n",
    "{% endif %}\n",
    "\n",
    "{% endfor %}\n",
    "\"\"\""
   ]
  },
  {
   "cell_type": "code",
   "execution_count": 23,
   "id": "b5fec174-023c-433b-b652-d78e7a6f45f3",
   "metadata": {
    "execution": {
     "iopub.execute_input": "2023-11-02T02:54:18.086248Z",
     "iopub.status.busy": "2023-11-02T02:54:18.085902Z",
     "iopub.status.idle": "2023-11-02T02:54:18.090207Z",
     "shell.execute_reply": "2023-11-02T02:54:18.089268Z",
     "shell.execute_reply.started": "2023-11-02T02:54:18.086225Z"
    }
   },
   "outputs": [],
   "source": [
    "from jinja2 import Template"
   ]
  },
  {
   "cell_type": "code",
   "execution_count": 24,
   "id": "0b23dac4-7586-4a2e-a973-fe18dd07f88e",
   "metadata": {
    "execution": {
     "iopub.execute_input": "2023-11-02T02:54:18.908872Z",
     "iopub.status.busy": "2023-11-02T02:54:18.908598Z",
     "iopub.status.idle": "2023-11-02T02:54:18.917319Z",
     "shell.execute_reply": "2023-11-02T02:54:18.916217Z",
     "shell.execute_reply.started": "2023-11-02T02:54:18.908849Z"
    }
   },
   "outputs": [],
   "source": [
    "t = Template(TEMPLATE)"
   ]
  },
  {
   "cell_type": "code",
   "execution_count": 25,
   "id": "70acac55-42d9-4ad4-bc94-17320c80b62f",
   "metadata": {
    "execution": {
     "iopub.execute_input": "2023-11-02T02:54:19.326014Z",
     "iopub.status.busy": "2023-11-02T02:54:19.325707Z",
     "iopub.status.idle": "2023-11-02T02:54:19.331995Z",
     "shell.execute_reply": "2023-11-02T02:54:19.331031Z",
     "shell.execute_reply.started": "2023-11-02T02:54:19.325991Z"
    }
   },
   "outputs": [],
   "source": [
    "def get_solution(problem):\n",
    "    solution_file = problem.metadata['files']['solution'][0]\n",
    "    path = Path(config.PROBLEM_REPOSITORY_PATH) / problem.name / solution_file\n",
    "    return path.read_text()\n",
    "\n",
    "def get_discussion(problem):\n",
    "    path = Path(config.PROBLEM_REPOSITORY_PATH) / problem.name / \"solution\" / \"discussion.md\"\n",
    "    return path.read_text() if path.exists() else \"\"\n",
    "\n",
    "def render_solutions(assignment: int):\n",
    "    title = f\"Assignment {assignment:02d}\"\n",
    "    problems = get_problems(assignment)\n",
    "    qmd = t.render(title=title, problems=problems, \n",
    "                   get_solution=get_solution,\n",
    "                   get_discussion=get_discussion)\n",
    "\n",
    "    path = f\"../book/assignments/assignment-{assignment:02d}.qmd\"\n",
    "    with open(path, \"w\") as f:\n",
    "        f.write(qmd)\n",
    "    print(\"Generated\", path)"
   ]
  },
  {
   "cell_type": "code",
   "execution_count": 26,
   "id": "10e4a8dd-abb5-489d-b3bb-baf8356e1f65",
   "metadata": {
    "execution": {
     "iopub.execute_input": "2023-11-02T02:54:21.948107Z",
     "iopub.status.busy": "2023-11-02T02:54:21.947815Z",
     "iopub.status.idle": "2023-11-02T02:54:22.026691Z",
     "shell.execute_reply": "2023-11-02T02:54:22.025708Z",
     "shell.execute_reply.started": "2023-11-02T02:54:21.948082Z"
    }
   },
   "outputs": [
    {
     "ename": "NameError",
     "evalue": "name 'get_problems' is not defined",
     "output_type": "error",
     "traceback": [
      "\u001b[0;31m---------------------------------------------------------------------------\u001b[0m",
      "\u001b[0;31mNameError\u001b[0m                                 Traceback (most recent call last)",
      "Cell \u001b[0;32mIn[26], line 1\u001b[0m\n\u001b[0;32m----> 1\u001b[0m \u001b[43mrender_solutions\u001b[49m\u001b[43m(\u001b[49m\u001b[38;5;241;43m1\u001b[39;49m\u001b[43m)\u001b[49m\n",
      "Cell \u001b[0;32mIn[25], line 12\u001b[0m, in \u001b[0;36mrender_solutions\u001b[0;34m(assignment)\u001b[0m\n\u001b[1;32m     10\u001b[0m \u001b[38;5;28;01mdef\u001b[39;00m \u001b[38;5;21mrender_solutions\u001b[39m(assignment: \u001b[38;5;28mint\u001b[39m):\n\u001b[1;32m     11\u001b[0m     title \u001b[38;5;241m=\u001b[39m \u001b[38;5;124mf\u001b[39m\u001b[38;5;124m\"\u001b[39m\u001b[38;5;124mAssignment \u001b[39m\u001b[38;5;132;01m{\u001b[39;00massignment\u001b[38;5;132;01m:\u001b[39;00m\u001b[38;5;124m02d\u001b[39m\u001b[38;5;132;01m}\u001b[39;00m\u001b[38;5;124m\"\u001b[39m\n\u001b[0;32m---> 12\u001b[0m     problems \u001b[38;5;241m=\u001b[39m \u001b[43mget_problems\u001b[49m(assignment)\n\u001b[1;32m     13\u001b[0m     qmd \u001b[38;5;241m=\u001b[39m t\u001b[38;5;241m.\u001b[39mrender(title\u001b[38;5;241m=\u001b[39mtitle, problems\u001b[38;5;241m=\u001b[39mproblems, \n\u001b[1;32m     14\u001b[0m                    get_solution\u001b[38;5;241m=\u001b[39mget_solution,\n\u001b[1;32m     15\u001b[0m                    get_discussion\u001b[38;5;241m=\u001b[39mget_discussion)\n\u001b[1;32m     17\u001b[0m     path \u001b[38;5;241m=\u001b[39m \u001b[38;5;124mf\u001b[39m\u001b[38;5;124m\"\u001b[39m\u001b[38;5;124m../book/assignments/assignment-\u001b[39m\u001b[38;5;132;01m{\u001b[39;00massignment\u001b[38;5;132;01m:\u001b[39;00m\u001b[38;5;124m02d\u001b[39m\u001b[38;5;132;01m}\u001b[39;00m\u001b[38;5;124m.qmd\u001b[39m\u001b[38;5;124m\"\u001b[39m\n",
      "\u001b[0;31mNameError\u001b[0m: name 'get_problems' is not defined"
     ]
    }
   ],
   "source": [
    "render_solutions(1)"
   ]
  },
  {
   "cell_type": "code",
   "execution_count": 182,
   "id": "6a3c6ba0-e298-4a49-8270-a1a4ecf214fa",
   "metadata": {
    "execution": {
     "iopub.execute_input": "2023-10-08T19:53:58.301886Z",
     "iopub.status.busy": "2023-10-08T19:53:58.301358Z",
     "iopub.status.idle": "2023-10-08T19:53:58.324440Z",
     "shell.execute_reply": "2023-10-08T19:53:58.323588Z",
     "shell.execute_reply.started": "2023-10-08T19:53:58.301848Z"
    }
   },
   "outputs": [
    {
     "name": "stdout",
     "output_type": "stream",
     "text": [
      "get_problems 2 ['despace', 'sort-words', 'minimum3', 'longest-line', 'line-with-most-words', 'list-files', 'sumfile', 'grep', 'cumulative-sum', 'count-increased']\n",
      "find despace\n",
      "find sort-words\n",
      "find minimum3\n",
      "find longest-line\n",
      "find line-with-most-words\n",
      "find list-files\n",
      "find sumfile\n",
      "find grep\n",
      "find cumulative-sum\n",
      "find count-increased\n",
      "Generated ../book/assignments/assignment-02.qmd\n"
     ]
    }
   ],
   "source": [
    "render_solutions(2)"
   ]
  },
  {
   "cell_type": "code",
   "execution_count": 16,
   "id": "4a15898a-e58b-4077-90a1-373ce7626ce9",
   "metadata": {
    "execution": {
     "iopub.execute_input": "2023-10-09T11:08:52.606820Z",
     "iopub.status.busy": "2023-10-09T11:08:52.606513Z",
     "iopub.status.idle": "2023-10-09T11:08:52.652828Z",
     "shell.execute_reply": "2023-10-09T11:08:52.646698Z",
     "shell.execute_reply.started": "2023-10-09T11:08:52.606795Z"
    }
   },
   "outputs": [
    {
     "name": "stdout",
     "output_type": "stream",
     "text": [
      "get_problems 3 ['vector-add', 'group', 'longest-argument', 'paste-cmd', 'center-align']\n",
      "find vector-add\n",
      "find group\n",
      "find longest-argument\n",
      "find paste-cmd\n",
      "find center-align\n",
      "Generated ../book/assignments/assignment-03.qmd\n"
     ]
    }
   ],
   "source": [
    "render_solutions(3)"
   ]
  },
  {
   "cell_type": "code",
   "execution_count": 46,
   "id": "3350d9da-8c85-42df-b1e6-2fa51b1f247f",
   "metadata": {
    "execution": {
     "iopub.execute_input": "2023-10-12T07:40:43.991821Z",
     "iopub.status.busy": "2023-10-12T07:40:43.991543Z",
     "iopub.status.idle": "2023-10-12T07:40:44.007617Z",
     "shell.execute_reply": "2023-10-12T07:40:44.006661Z",
     "shell.execute_reply.started": "2023-10-12T07:40:43.991797Z"
    }
   },
   "outputs": [
    {
     "name": "stdout",
     "output_type": "stream",
     "text": [
      "get_problems 4 ['reverse-words', 'seq', 'tail', 'skip-cmd', 'split']\n",
      "find reverse-words\n",
      "find seq\n",
      "find tail\n",
      "find skip-cmd\n",
      "find split\n",
      "Generated ../book/assignments/assignment-04.qmd\n"
     ]
    }
   ],
   "source": [
    "render_solutions(4)"
   ]
  },
  {
   "cell_type": "code",
   "execution_count": 44,
   "id": "104894a4-e5ce-4f1f-87bc-ff79ebb9b13a",
   "metadata": {
    "execution": {
     "iopub.execute_input": "2023-10-19T20:22:36.029502Z",
     "iopub.status.busy": "2023-10-19T20:22:36.028769Z",
     "iopub.status.idle": "2023-10-19T20:22:36.045893Z",
     "shell.execute_reply": "2023-10-19T20:22:36.045008Z",
     "shell.execute_reply.started": "2023-10-19T20:22:36.029478Z"
    }
   },
   "outputs": [
    {
     "name": "stdout",
     "output_type": "stream",
     "text": [
      "get_problems 5 ['unique', 'flatten', 'extcount', 'sales-by-day', 'uniq-cmd']\n",
      "find unique\n",
      "find flatten\n",
      "find extcount\n",
      "find sales-by-day\n",
      "find uniq-cmd\n",
      "Generated ../book/assignments/assignment-05.qmd\n"
     ]
    }
   ],
   "source": [
    "render_solutions(5)"
   ]
  },
  {
   "cell_type": "code",
   "execution_count": 45,
   "id": "1acf7abc-d3a7-4b2c-a7c8-d7829bdaedc5",
   "metadata": {
    "execution": {
     "iopub.execute_input": "2023-10-19T20:22:37.318110Z",
     "iopub.status.busy": "2023-10-19T20:22:37.316362Z",
     "iopub.status.idle": "2023-10-19T20:22:37.333090Z",
     "shell.execute_reply": "2023-10-19T20:22:37.332315Z",
     "shell.execute_reply.started": "2023-10-19T20:22:37.318082Z"
    }
   },
   "outputs": [
    {
     "name": "stdout",
     "output_type": "stream",
     "text": [
      "get_problems 6 ['reverse-lines', 'generate-password', 'weekly-average', 'sort-cmd', 'hosts-writer']\n",
      "find reverse-lines\n",
      "find generate-password\n",
      "find weekly-average\n",
      "find sort-cmd\n",
      "find hosts-writer\n",
      "Generated ../book/assignments/assignment-06.qmd\n"
     ]
    }
   ],
   "source": [
    "render_solutions(6)"
   ]
  },
  {
   "cell_type": "code",
   "execution_count": 35,
   "id": "50af00ff-475c-4558-bb25-bbf08dde7ad5",
   "metadata": {
    "execution": {
     "iopub.execute_input": "2023-11-02T02:54:47.901752Z",
     "iopub.status.busy": "2023-11-02T02:54:47.901482Z",
     "iopub.status.idle": "2023-11-02T02:54:47.925531Z",
     "shell.execute_reply": "2023-11-02T02:54:47.924810Z",
     "shell.execute_reply.started": "2023-11-02T02:54:47.901729Z"
    }
   },
   "outputs": [
    {
     "name": "stdout",
     "output_type": "stream",
     "text": [
      "get_problems 7 ['nominatim', 'dict-client', 'frankfurter', 'pypi-releases', 'gist-lib']\n",
      "find nominatim\n",
      "find dict-client\n",
      "find frankfurter\n",
      "find pypi-releases\n",
      "find gist-lib\n",
      "Generated ../book/assignments/assignment-07.qmd\n"
     ]
    }
   ],
   "source": [
    "render_solutions(7)"
   ]
  },
  {
   "cell_type": "code",
   "execution_count": 36,
   "id": "681f3e4f-34f1-4ac6-8bb8-59a1354f4ca7",
   "metadata": {
    "execution": {
     "iopub.execute_input": "2023-11-02T02:54:51.109768Z",
     "iopub.status.busy": "2023-11-02T02:54:51.109118Z",
     "iopub.status.idle": "2023-11-02T02:54:51.125588Z",
     "shell.execute_reply": "2023-11-02T02:54:51.124964Z",
     "shell.execute_reply.started": "2023-11-02T02:54:51.109742Z"
    }
   },
   "outputs": [
    {
     "name": "stdout",
     "output_type": "stream",
     "text": [
      "get_problems 8 ['slug', 'df', 'dig', 'run-length-encoding', 'two-column-layout']\n",
      "find slug\n",
      "find df\n",
      "find dig\n",
      "find run-length-encoding\n",
      "find two-column-layout\n",
      "Generated ../book/assignments/assignment-08.qmd\n"
     ]
    }
   ],
   "source": [
    "render_solutions(8)"
   ]
  },
  {
   "cell_type": "code",
   "execution_count": null,
   "id": "3d4dd095-b1c0-487d-a1a1-b393f8f5282a",
   "metadata": {},
   "outputs": [],
   "source": []
  }
 ],
 "metadata": {
  "kernelspec": {
   "display_name": "Python 3 (ipykernel)",
   "language": "python",
   "name": "python3"
  },
  "language_info": {
   "codemirror_mode": {
    "name": "ipython",
    "version": 3
   },
   "file_extension": ".py",
   "mimetype": "text/x-python",
   "name": "python",
   "nbconvert_exporter": "python",
   "pygments_lexer": "ipython3",
   "version": "3.10.10"
  }
 },
 "nbformat": 4,
 "nbformat_minor": 5
}
