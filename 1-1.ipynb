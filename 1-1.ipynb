{
 "cells": [
  {
   "cell_type": "markdown",
   "id": "311519da-7050-43d7-8c32-c70e751ec964",
   "metadata": {},
   "source": [
    "# Module I - Day 1"
   ]
  },
  {
   "cell_type": "code",
   "execution_count": null,
   "id": "7d3027b7-3589-4b9f-866d-bb068910ba6f",
   "metadata": {},
   "outputs": [],
   "source": []
  }
 ],
 "metadata": {
  "kernelspec": {
   "display_name": "Python 3 (ipykernel)",
   "language": "python",
   "name": "python3"
  },
  "language_info": {
   "codemirror_mode": {
    "name": "ipython",
    "version": 3
   },
   "file_extension": ".py",
   "mimetype": "text/x-python",
   "name": "python",
   "nbconvert_exporter": "python",
   "pygments_lexer": "ipython3",
   "version": "3.10.10"
  }
 },
 "nbformat": 4,
 "nbformat_minor": 5
}
